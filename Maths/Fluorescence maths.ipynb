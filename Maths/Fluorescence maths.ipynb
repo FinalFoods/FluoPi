{
 "cells": [
  {
   "cell_type": "markdown",
   "metadata": {},
   "source": [
    "### Fluorescent signal maths analysis for timelapse images"
   ]
  },
  {
   "cell_type": "markdown",
   "metadata": {},
   "source": [
    "Intensity signal $I_s(t)$ - or pixel value - can be decoupled on two terms: the signal given by the biological system $I_b(t)$ and the background signal given by the media $I_m(t)$. $$ I_s(t)=I_b(t) + I_m(t)  \\tag{1}$$\n",
    "It is possible to obtain the background intensity directly from the data and get rid of it by simple substraction (assuming independence  between them), focusing on the intensity given by the biological system. $$I_b(t)=I_s(t) - I_m(t)  \\tag{2}$$ "
   ]
  },
  {
   "cell_type": "markdown",
   "metadata": {},
   "source": [
    "This signal intensity of interest (\"$I(t)$\") is given by the amount of fluorescence produced by bacteria. Then, it is possible to write the next expresión to represent it.: $$ I(t) = V(t) \\cdot F_v  \\tag{3}$$\n",
    "where $V(t)$ is the volume of bacteria on each space and time point, and $F_v$ is the fluorescence emited by each unit of volume. <br>\n",
    "As there are not precise measures of the colony volume or its absorbance at each point, it would be useful to make some simplifications.\n",
    "By assuming an homogeneus thickness along the colony (say h), then: $$  I(t) = V(t) \\cdot F_v \\rightarrow I(t) = A(t)\\cdot h \\cdot  \\frac{F_A}{h} \\rightarrow  I(t) = A(t) \\cdot F_A   \\tag{4}$$\n",
    "where $A(t)$ is the area of bacteria on each time point and $F_A$ is the amount of fluorescence emited per unit of area (pixel)"
   ]
  },
  {
   "cell_type": "markdown",
   "metadata": {},
   "source": [
    "This last term could be assumed as a linear relation with the amount of fluorescent protein on each unit of area $\\big( [FP]= \\frac{ FP}{Area},\\alpha_F = \\text{fluorescence produced per unit of [FP]} \\big)$:\n",
    "$$ F_A= a_F \\cdot [FP] + b  \\tag{5}$$"
   ]
  },
  {
   "cell_type": "markdown",
   "metadata": {},
   "source": [
    "Then, the following expression is obtained for the intensity:\n",
    "$$ I(t) = A(t) \\cdot F_A = A(t) \\cdot a_F \\cdot [FP] + A(t) \\cdot b  \\tag{6}$$ \n",
    "where the first term is given by the fluorescent protein amount on each cell and the second term is the bacterial colony autofluorescence."
   ]
  },
  {
   "cell_type": "markdown",
   "metadata": {
    "collapsed": true
   },
   "source": [
    "Dividing by the area $A(t)$ it's is possible to obtain an expression for the mean fluorescent intensity per area: $$ \\frac{I(t)}{A(t)} =  a_F \\cdot [FP] + b  \\tag{7}$$"
   ]
  },
  {
   "cell_type": "markdown",
   "metadata": {},
   "source": [
    "By taking the derivative over time, it's get the expression: \n",
    "$$ \\frac{d(I/A)}{dt} = a_F \\cdot \\frac{d[FP]}{dt}  \\tag{8}$$"
   ]
  },
  {
   "cell_type": "markdown",
   "metadata": {
    "collapsed": true
   },
   "source": [
    "It is possible to relate the above with the dynamics of the colony protein expression. Taking simple models for transcription and traduction rate, respectively:\n",
    "$$ \\frac{d[m]}{dt} =K_m(t) - \\delta_m [m] - \\mu [m]  \\tag{9}$$\n",
    "$$ \\frac{d[P]}{dt} =K_p(t) \\cdot [m] - \\delta_p [P] - \\mu [P]  \\tag{10}$$\n",
    "\n",
    "where $K_m(t)$ and $K_p(t)$ are the transcription and traduction rates, $\\delta$ is the degradation rate and $\\mu$ is the growth rate (being the last term the dilution one)."
   ]
  },
  {
   "cell_type": "markdown",
   "metadata": {
    "collapsed": true
   },
   "source": [
    "Under the assumptions of $\\frac{d[m]}{dt} \\approx 0$ (and dilution term neglected) $\\rightarrow [m] = \\frac{K_m(t)}{\\delta_m}$, and taking $\\delta_p \\approx 0$, the protein dynamics becomes: \n",
    "$$ \\frac{d[P]}{dt} =K_p(t) \\cdot \\frac{K_m(t)}{\\delta_m} - \\mu [P]  \\tag{11}$$"
   ]
  },
  {
   "cell_type": "markdown",
   "metadata": {
    "collapsed": true
   },
   "source": [
    "by grouping the protein expression term, it becomes:\n",
    "$$ \\frac{d[P]}{dt} =K_e(t) - \\mu [P]  \\tag{12}$$"
   ]
  },
  {
   "cell_type": "markdown",
   "metadata": {
    "collapsed": true
   },
   "source": [
    "Using this model to represent the fluorescent protein dynamics, it's possible to use it on the mean fluorescence intensity expression developed (eq. 8):\n",
    "$$ \\frac{d(I/A)}{dt} = a_F \\cdot \\frac{d[FP]}{dt} =a_F \\cdot  (K_e(t) - \\mu [FP] ) \\tag{13}$$\n",
    "$$ \\rightarrow  \\frac{d(I/A)}{dt} =   K_F(t) - \\mu \\cdot a_F \\cdot [FP] \\tag{14}$$\n",
    "where $K_F = a_F \\cdot K_e$ is the flurescence intensity expression rate."
   ]
  },
  {
   "cell_type": "markdown",
   "metadata": {
    "collapsed": true
   },
   "source": [
    "Finally, rearranging (14) and using (7):\n",
    "$$ K_F(t) = \\frac{d(I/A)}{dt}  +  \\mu \\cdot \\bigg( \\frac{I}{A} -b \\bigg) \\tag{15}$$\n",
    "\n",
    "As the colony autofluorescence is negligible it's possible to write:\n",
    "$$K_F(t) = \\frac{d(I/A)}{dt}  +  \\mu \\cdot \\bigg( \\frac{I}{A} \\bigg) \\tag{16} $$"
   ]
  },
  {
   "cell_type": "markdown",
   "metadata": {},
   "source": [
    "To write an expression for the mean intensity signal ($I/A$) and for the growth rate ($\\mu$), it's  possible to take the bacterial growth expression: \n",
    "$$ \\frac{dV(t)}{dt}= \\mu \\cdot V(t) \\tag{16}$$\n",
    "Which under assumption of constant thicknes it gets:\n",
    "$$ \\frac{dA(t)}{dt}= \\mu \\cdot A(t) \\tag{17}$$\n",
    "$$ \\rightarrow \\mu(t) = \\frac{1}{A(t)} \\cdot \\frac{dA(t)}{dt} \\tag{18} $$"
   ]
  },
  {
   "cell_type": "markdown",
   "metadata": {},
   "source": [
    "by taking a logistic area growth model:\n",
    "$$ A(t) = \\frac{A_{max}}{1 + e^{- \\mu_{max}(t- t_0)}} \\tag{19}$$\n",
    "$\\mu(t)$ gets:\n",
    "$$ \\mu(t) = \\frac{\\mu_{max}}{e^{\\mu_{max} (t-t_0)} +1} \\tag{20}$$"
   ]
  },
  {
   "cell_type": "markdown",
   "metadata": {},
   "source": [
    "As we have colony area data, we can fit the model to them and compute $\\mu(t)$ value.\n",
    "Also with the area values we can compute $I/A$ directly from the data and smooth them with a spline (using [scipy univariate spline](https://docs.scipy.org/doc/scipy-0.14.0/reference/generated/scipy.interpolate.UnivariateSpline.html) ) to compute the derivative of that function.\n",
    "Then we are able to compute the $K_F(t)$ value on (15)."
   ]
  }
 ],
 "metadata": {
  "kernelspec": {
   "display_name": "Python 3",
   "language": "python",
   "name": "python3"
  },
  "language_info": {
   "codemirror_mode": {
    "name": "ipython",
    "version": 3
   },
   "file_extension": ".py",
   "mimetype": "text/x-python",
   "name": "python",
   "nbconvert_exporter": "python",
   "pygments_lexer": "ipython3",
   "version": "3.6.0"
  }
 },
 "nbformat": 4,
 "nbformat_minor": 2
}
