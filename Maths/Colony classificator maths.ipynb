{
 "cells": [
  {
   "cell_type": "markdown",
   "metadata": {},
   "source": [
    "## Colony classificator maths"
   ]
  },
  {
   "cell_type": "markdown",
   "metadata": {},
   "source": [
    "Through approximating the relation between the fluorescent protein level with the fluorescence intensity as a linear one, it's possible to write:"
   ]
  },
  {
   "cell_type": "markdown",
   "metadata": {},
   "source": [
    "$$\\textsf{Fluorescence intensity vector} = A \\cdot \\textsf{fluorescence protein level vector} + \\textsf{basal signal}$$"
   ]
  },
  {
   "cell_type": "markdown",
   "metadata": {},
   "source": [
    "$$  \\begin{bmatrix} R(t)\\\\  G(t)\\\\ B(t)\\\\ \\end{bmatrix}  =  \\begin{bmatrix} a_{RR} & a_{GR} & a_{OR} \\\\ a_{RG} & a_{GG} & a_{OG}\\\\ a_{RB} & a_{GB} & a_{OB} \\end{bmatrix} \\begin{bmatrix} FP_{R}\\\\ FP_{G}\\\\ FP_{O} \\end{bmatrix} + \\begin{bmatrix} R_{0}\\\\ G_{0}\\\\ B_{0} \\end{bmatrix} $$\n",
    "   \n",
    "   "
   ]
  },
  {
   "cell_type": "markdown",
   "metadata": {},
   "source": [
    "\\noindent \n",
    "where A is the linearization matrix that contains the liner relation slopes values, which correspond to the amount of signal produced by each unit of fluorescent protein concentration $\\big( e.g. a_{RR}= \\text{red signal produced per unit of }FP_R \\text{,  }a_{RG}= \\text{green signal produced per unit of }FP_R, etc \\big)$"
   ]
  },
  {
   "cell_type": "markdown",
   "metadata": {},
   "source": [
    "\\vspace{\\baselineskip}\n",
    "\\noindent\n",
    "If it have only one fluorescent protein per colony, let's say $FP_R > 0$,  $FP_G = 0$,  $FP_O = 0$, then:"
   ]
  },
  {
   "cell_type": "markdown",
   "metadata": {},
   "source": [
    "$$  \\begin{bmatrix} R(t)\\\\  G(t)\\\\ B(t)\\\\ \\end{bmatrix}  =  \\begin{bmatrix} a_{RR} & a_{GR} & a_{OR} \\\\ a_{RG} & a_{GG} & a_{OG}\\\\ a_{RB} & a_{GB} & a_{OB} \\end{bmatrix} \\begin{bmatrix} FP_{R}\\\\ 0\\\\ 0 \\end{bmatrix} + \\begin{bmatrix} R_{0}\\\\ G_{0}\\\\ B_{0} \\end{bmatrix} $$\n",
    "   \n",
    "   "
   ]
  },
  {
   "cell_type": "markdown",
   "metadata": {},
   "source": [
    "\\noindent\n",
    "That is equal to:"
   ]
  },
  {
   "cell_type": "markdown",
   "metadata": {},
   "source": [
    "$$  \\begin{bmatrix} R(t)\\\\  G(t)\\\\ B(t)\\\\ \\end{bmatrix}  =  \\begin{bmatrix} FP_R \\cdot a_{RR} \\\\ FP_R \\cdot a_{RG} \\\\ FP_R \\cdot a_{RB} \\end{bmatrix} + \\begin{bmatrix} R_{0}\\\\ G_{0}\\\\ B_{0} \\end{bmatrix} $$\n",
    "   \n",
    "   "
   ]
  },
  {
   "cell_type": "markdown",
   "metadata": {},
   "source": [
    "\\noindent\n",
    "By taking only the red and green channels we can obtain a 2 eq. system:"
   ]
  },
  {
   "cell_type": "markdown",
   "metadata": {},
   "source": [
    "$$ \\begin{array}{ccc} (1) &  & R(t) = FP_R \\cdot a_{RR} + R_0 \\\\  (2) &  & G(t) = FP_R \\cdot a_{RG} + G_0 \\end{array} $$"
   ]
  },
  {
   "cell_type": "markdown",
   "metadata": {},
   "source": [
    "\\noindent\n",
    "Assuming $a_{RG} \\neq 0$  , rearrange (2) as:"
   ]
  },
  {
   "cell_type": "markdown",
   "metadata": {},
   "source": [
    "$$ FP_R = \\frac{G(t) - G_0}{a_{RG}}$$"
   ]
  },
  {
   "cell_type": "markdown",
   "metadata": {},
   "source": [
    "\\noindent\n",
    "and replacing $FP_R $ on (1):"
   ]
  },
  {
   "cell_type": "markdown",
   "metadata": {},
   "source": [
    "$$ R(t) = \\frac{G(t) - G_0}{a_{RG}} \\cdot a_{RR} + R_0$$"
   ]
  },
  {
   "cell_type": "markdown",
   "metadata": {},
   "source": [
    "\\vspace{\\baselineskip}\n",
    "\\noindent\n",
    "Rearranging it gives:"
   ]
  },
  {
   "cell_type": "markdown",
   "metadata": {},
   "source": [
    "$$ R(t) = G(t) \\frac{a_{RR}}{a_{RG}} - \\frac{G_0 \\cdot a_{RR}}{a_{RG}} + R_0$$"
   ]
  },
  {
   "cell_type": "markdown",
   "metadata": {},
   "source": [
    "\\noindent\n",
    "Finally, condensing the constants it becomes a linear relation between $R(t)$ and $G(t)$.:"
   ]
  },
  {
   "cell_type": "markdown",
   "metadata": {},
   "source": [
    "$$ R(t) = G(t) \\cdot m_R +b_{R} $$"
   ]
  },
  {
   "cell_type": "markdown",
   "metadata": {},
   "source": [
    "\\noindent\n",
    "where $m_R = \\frac{a_{RR}}{a_{RG}}$      and      $b_{R} = R_0- \\frac{G_0 *a_{RR}}{a_{RG}}$, which are intrinsic parameters of each fluorescent protein.    "
   ]
  },
  {
   "cell_type": "markdown",
   "metadata": {},
   "source": [
    "\\vspace{\\baselineskip}\n",
    "\\noindent\n",
    "By proceeding the same way, it is possible to obtain a characteristic linear expression for each fluorescent protein:"
   ]
  },
  {
   "cell_type": "markdown",
   "metadata": {},
   "source": [
    "\\vspace{\\baselineskip}\n",
    "when $FP_R = 0$,  $FP_G > 0$,  $FP_O = 0$:\n",
    "$$ R(t) = G(t) \\cdot m_G +b_{G} $$\n",
    "\n",
    "when $FP_R = 0$,  $FP_G = 0$,  $FP_O > 0$:\n",
    "$$ R(t) = G(t) \\cdot m_O +b_{O} $$"
   ]
  }
 ],
 "metadata": {
  "kernelspec": {
   "display_name": "Python 3",
   "language": "python",
   "name": "python3"
  },
  "language_info": {
   "codemirror_mode": {
    "name": "ipython",
    "version": 3
   },
   "file_extension": ".py",
   "mimetype": "text/x-python",
   "name": "python",
   "nbconvert_exporter": "python",
   "pygments_lexer": "ipython3",
   "version": "3.6.0"
  }
 },
 "nbformat": 4,
 "nbformat_minor": 2
}
