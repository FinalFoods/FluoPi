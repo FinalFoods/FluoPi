{
 "cells": [
  {
   "cell_type": "markdown",
   "metadata": {},
   "source": [
    "## Colony classificator maths"
   ]
  },
  {
   "cell_type": "markdown",
   "metadata": {},
   "source": [
    "If we aproximate the relation of the fluorescent protein level with the fluorescence intensity as a linear one, we can write it this way:"
   ]
  },
  {
   "cell_type": "markdown",
   "metadata": {},
   "source": [
    "$$ \\begin{array}{ccc} Fluorescence & intensity & vector \\end{array} = \\begin{array}{cc} A & * & fluorescent & protein & level & vector \\end{array}  +  \\begin{array}{c} basal & signal \\end{array}  $$"
   ]
  },
  {
   "cell_type": "markdown",
   "metadata": {},
   "source": [
    "$$  \\begin{bmatrix} R(t)\\\\  G(t)\\\\ B(t)\\\\ \\end{bmatrix}  =  \\begin{bmatrix} a_{RR} & a_{GR} & a_{OR} \\\\ a_{RG} & a_{GG} & a_{OG}\\\\ a_{RB} & a_{GB} & a_{OB} \\end{bmatrix} \\begin{bmatrix} FP_{R}\\\\ FP_{G}\\\\ FP_{O} \\end{bmatrix} + \\begin{bmatrix} R_{0}\\\\ G_{0}\\\\ B_{0} \\end{bmatrix} $$\n",
    "   \n",
    "   "
   ]
  },
  {
   "cell_type": "markdown",
   "metadata": {},
   "source": [
    "(where A is the linearization matrix, containing the slopes)"
   ]
  },
  {
   "cell_type": "markdown",
   "metadata": {},
   "source": [
    "If we have only one fluorescent protein per colony, let's say $ FP_R > 0$,  $FP_G = 0$,  $ FP_O = 0$, then:"
   ]
  },
  {
   "cell_type": "markdown",
   "metadata": {},
   "source": [
    "$$  \\begin{bmatrix} R(t)\\\\  G(t)\\\\ B(t)\\\\ \\end{bmatrix}  =  \\begin{bmatrix} a_{RR} & a_{GR} & a_{OR} \\\\ a_{RG} & a_{GG} & a_{OG}\\\\ a_{RB} & a_{GB} & a_{OB} \\end{bmatrix} \\begin{bmatrix} FP_{R}\\\\ 0\\\\ 0 \\end{bmatrix} + \\begin{bmatrix} R_{0}\\\\ G_{0}\\\\ B_{0} \\end{bmatrix} $$\n",
    "   \n",
    "   "
   ]
  },
  {
   "cell_type": "markdown",
   "metadata": {},
   "source": [
    "that is equal to:"
   ]
  },
  {
   "cell_type": "markdown",
   "metadata": {},
   "source": [
    "$$  \\begin{bmatrix} R(t)\\\\  G(t)\\\\ B(t)\\\\ \\end{bmatrix}  =  \\begin{bmatrix} FP_R *a_{RR} \\\\ FP_R*a_{RG} \\\\ FP_R*a_{RB} \\end{bmatrix} + \\begin{bmatrix} R_{0}\\\\ G_{0}\\\\ B_{0} \\end{bmatrix} $$\n",
    "   \n",
    "   "
   ]
  },
  {
   "cell_type": "markdown",
   "metadata": {},
   "source": [
    "if we take the red and green channels:"
   ]
  },
  {
   "cell_type": "markdown",
   "metadata": {},
   "source": [
    "$$ \\begin{array}{ccc} (1) &  & R(t) = FP_R*a_{RR} + R_0 \\\\  (2) &  & G(t) = FP_R*a_{RG} + G_0 \\end{array} $$"
   ]
  },
  {
   "cell_type": "markdown",
   "metadata": {},
   "source": [
    "assuming   $a_{RG} \\neq 0 $  , we can re-arrange (2):"
   ]
  },
  {
   "cell_type": "markdown",
   "metadata": {},
   "source": [
    "$$ FP_R = \\frac{G(t) - G_0}{a_{RG}}$$"
   ]
  },
  {
   "cell_type": "markdown",
   "metadata": {},
   "source": [
    "and replace on (1):"
   ]
  },
  {
   "cell_type": "markdown",
   "metadata": {},
   "source": [
    "$$ R(t) = \\frac{G(t) - G_0}{a_{RG}}*a_{RR} + R_0$$"
   ]
  },
  {
   "cell_type": "markdown",
   "metadata": {},
   "source": [
    "Re-arranguing:"
   ]
  },
  {
   "cell_type": "markdown",
   "metadata": {},
   "source": [
    "$$ R(t) = G(t) \\frac{a_{RR}}{a_{RG}} - \\frac{G_0 *a_{RR}}{a_{RG}} + R_0$$"
   ]
  },
  {
   "cell_type": "markdown",
   "metadata": {},
   "source": [
    "Finally, condensing the constant:"
   ]
  },
  {
   "cell_type": "markdown",
   "metadata": {},
   "source": [
    "$$ R(t) = G(t)*m_R +b_{R} $$"
   ]
  },
  {
   "cell_type": "markdown",
   "metadata": {},
   "source": [
    "where $m_R = \\frac{a_{RR}}{a_{RG}}$      and      $b_{R} = R_0- \\frac{G_0 *a_{RR}}{a_{RG}}$    "
   ]
  },
  {
   "cell_type": "markdown",
   "metadata": {},
   "source": [
    "Then, we obtain a linear relation between R(t) and G(t)."
   ]
  },
  {
   "cell_type": "markdown",
   "metadata": {},
   "source": [
    "We can proced the same way to obtain a characteristic linear expresion for each fluorescent protein:"
   ]
  },
  {
   "cell_type": "markdown",
   "metadata": {},
   "source": [
    "when $ FP_R = 0$,  $FP_G > 0$,  $ FP_O = 0$:\n",
    "$$ R(t) = G(t)*m_G +b_{G} $$\n",
    "\n",
    "when $ FP_R = 0$,  $FP_G = 0$,  $ FP_O > 0$:\n",
    "$$ R(t) = G(t)*m_O +b_{O} $$"
   ]
  },
  {
   "cell_type": "code",
   "execution_count": null,
   "metadata": {
    "collapsed": true
   },
   "outputs": [],
   "source": []
  },
  {
   "cell_type": "code",
   "execution_count": null,
   "metadata": {
    "collapsed": true
   },
   "outputs": [],
   "source": []
  },
  {
   "cell_type": "code",
   "execution_count": null,
   "metadata": {
    "collapsed": true
   },
   "outputs": [],
   "source": []
  },
  {
   "cell_type": "code",
   "execution_count": null,
   "metadata": {
    "collapsed": true
   },
   "outputs": [],
   "source": []
  },
  {
   "cell_type": "markdown",
   "metadata": {},
   "source": []
  },
  {
   "cell_type": "markdown",
   "metadata": {},
   "source": []
  },
  {
   "cell_type": "markdown",
   "metadata": {},
   "source": []
  },
  {
   "cell_type": "markdown",
   "metadata": {},
   "source": []
  },
  {
   "cell_type": "markdown",
   "metadata": {},
   "source": []
  },
  {
   "cell_type": "markdown",
   "metadata": {},
   "source": []
  },
  {
   "cell_type": "code",
   "execution_count": 3,
   "metadata": {
    "collapsed": true
   },
   "outputs": [],
   "source": []
  },
  {
   "cell_type": "code",
   "execution_count": null,
   "metadata": {
    "collapsed": true
   },
   "outputs": [],
   "source": []
  }
 ],
 "metadata": {
  "kernelspec": {
   "display_name": "Python 3",
   "language": "python",
   "name": "python3"
  },
  "language_info": {
   "codemirror_mode": {
    "name": "ipython",
    "version": 3
   },
   "file_extension": ".py",
   "mimetype": "text/x-python",
   "name": "python",
   "nbconvert_exporter": "python",
   "pygments_lexer": "ipython3",
   "version": "3.6.0"
  }
 },
 "nbformat": 4,
 "nbformat_minor": 2
}
