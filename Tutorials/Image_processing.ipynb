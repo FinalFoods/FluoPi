{
 "cells": [
  {
   "cell_type": "markdown",
   "metadata": {},
   "source": [
    "# Overview\n",
    "The Raspiscope takes colour images of fluorescence in multiple channels. We can use the scope to take time-lapse image series (like videos) of bacterial colonies, to see how they grow and synthesise fluorescent proteins. The first step in analysing the behaviour of these colonies is to locate the colonies in the images and measure their size. Next we need to compute their level of fluorescence. We do this in each image in the series to form time-varying signals for each colony. \n",
    "\n",
    "## Open source Python packages\n",
    "We will use some excellent open source packages to do our analysis. First, numpy is a package to do numerical computing including handling arrays:"
   ]
  },
  {
   "cell_type": "code",
   "execution_count": null,
   "metadata": {
    "collapsed": true
   },
   "outputs": [],
   "source": [
    "import numpy as np"
   ]
  },
  {
   "cell_type": "markdown",
   "metadata": {},
   "source": [
    "Matplotlib is a package (that contains a sub-package called PyPlot) for plotting graphs, charts, images and other graphics: "
   ]
  },
  {
   "cell_type": "code",
   "execution_count": null,
   "metadata": {
    "collapsed": false
   },
   "outputs": [],
   "source": [
    "%matplotlib inline\n",
    "import matplotlib\n",
    "import matplotlib.pyplot as plt"
   ]
  },
  {
   "cell_type": "markdown",
   "metadata": {},
   "source": [
    "Scikit-image is an image processing and machinge vision package, we will use it to do object recognition to find colonies in images:"
   ]
  },
  {
   "cell_type": "code",
   "execution_count": null,
   "metadata": {
    "collapsed": true
   },
   "outputs": [],
   "source": [
    "import skimage \n",
    "from skimage import io, filters"
   ]
  },
  {
   "cell_type": "markdown",
   "metadata": {},
   "source": [
    "## Loading image data"
   ]
  },
  {
   "cell_type": "markdown",
   "metadata": {},
   "source": [
    "First lets define the location where the images are stored. You should obtain the example from the **_Files_** section in the [OSF FluoPi proyect](https://osf.io/dy6p2/). There you can download it from the *Google drive/Example_data/Classifier/*  folder.\n",
    "\n",
    "Once you have downloaded the data, put the path in the string below, following this example:"
   ]
  },
  {
   "cell_type": "code",
   "execution_count": null,
   "metadata": {
    "collapsed": false
   },
   "outputs": [],
   "source": [
    "# The folder where the file is:\n",
    "fpath =  \"../sfGFP_data\"\n",
    "# The pattern of the file names:\n",
    "fpattern = \"image_%04d.jpg\"\n",
    "\n",
    "# Here we use the python function join to add the folder and file name.\n",
    "# [This is because different operating systems (e.g. Windows, Mac OSX)\n",
    "# use different symbols to separate file paths]\n",
    "import os\n",
    "fname = os.path.join(fpath, fpattern)\n",
    "print(fname%(0))   # print to see if names are well defined"
   ]
  },
  {
   "cell_type": "markdown",
   "metadata": {},
   "source": [
    "Note how the % notations adds a number to the string, so we can specify which image to load."
   ]
  },
  {
   "cell_type": "markdown",
   "metadata": {},
   "source": [
    "### Image data structure"
   ]
  },
  {
   "cell_type": "markdown",
   "metadata": {},
   "source": [
    "We will use PyPlot function *imread* to read the file into a numpy array. This is a 3-dimensional array (a grid of values) with dimensions x,y,c, with (x,y) position and c the color channel (red, green, blue). \n",
    "\n",
    "<img src=\"files/imagearray.png\" width=256 height=256>\n",
    "\n",
    "Let's try this with the frame 500 image:"
   ]
  },
  {
   "cell_type": "code",
   "execution_count": null,
   "metadata": {
    "collapsed": false
   },
   "outputs": [],
   "source": [
    "im300 = plt.imread(fname%300)"
   ]
  },
  {
   "cell_type": "markdown",
   "metadata": {},
   "source": [
    "We can use PyPlot again to display the array (*imshow*), which correctly interprets the array as a color image:"
   ]
  },
  {
   "cell_type": "code",
   "execution_count": null,
   "metadata": {
    "collapsed": false
   },
   "outputs": [],
   "source": [
    "plt.figure()\n",
    "plt.imshow(im300)\n",
    "plt.title(fname%300)"
   ]
  },
  {
   "cell_type": "markdown",
   "metadata": {},
   "source": [
    "Or we can show channels separately "
   ]
  },
  {
   "cell_type": "code",
   "execution_count": null,
   "metadata": {
    "collapsed": false
   },
   "outputs": [],
   "source": [
    "plt.figure(figsize=(15,3))\n",
    "plt.subplot(131)\n",
    "plt.imshow(im300[:,:,0])\n",
    "plt.colorbar()\n",
    "plt.title('Red channel')\n",
    "\n",
    "plt.subplot(132)\n",
    "plt.imshow(im300[:,:,1])\n",
    "plt.colorbar()\n",
    "plt.title('Green channel')\n",
    "\n",
    "plt.subplot(133)\n",
    "plt.imshow(im300[:,:,2])\n",
    "plt.colorbar()\n",
    "plt.title('Blue channel')"
   ]
  },
  {
   "cell_type": "markdown",
   "metadata": {},
   "source": [
    "Each pixel of each channel can take a value between 0 to 255, which value is indicated accord the colorbar at the side of each plot.\n"
   ]
  },
  {
   "cell_type": "markdown",
   "metadata": {},
   "source": [
    "### Loading the time series images\n",
    "There are 3 channels in each image (R,G,B). \n",
    "We will load each channel of all the images into a 3-dimensional array, with dimensions x, y, time. \n",
    "\n",
    "<img src=\"files/TempMatrix.png\" width=800 height=256>"
   ]
  },
  {
   "cell_type": "markdown",
   "metadata": {},
   "source": [
    "We need to know the **size of each image**. We can get it from the numpy array shape. The 3rd dimension size is 3 for the color channels R,G,B --> We dont need it, so use the dummy \"_\" variable."
   ]
  },
  {
   "cell_type": "code",
   "execution_count": null,
   "metadata": {
    "collapsed": false
   },
   "outputs": [],
   "source": [
    "w,h,_ = im300.shape\n",
    "print('w = %d, h = %d'%(w,h))"
   ]
  },
  {
   "cell_type": "markdown",
   "metadata": {
    "collapsed": true
   },
   "source": [
    "Now we create a numpy array to hold the data and loop over the files, taking only channel 1 (green). There are a lot of time points in this series, so here we take every 10th frame:"
   ]
  },
  {
   "cell_type": "code",
   "execution_count": null,
   "metadata": {
    "collapsed": false
   },
   "outputs": [],
   "source": [
    "# Number of images to load\n",
    "nt = 30\n",
    "# Take every 10th frame\n",
    "xframes = 10\n",
    "\n",
    "# Create one array for each channel R,G,B\n",
    "imsR = np.zeros((w,h,nt))\n",
    "imsG = np.zeros((w,h,nt))\n",
    "imsB = np.zeros((w,h,nt))\n",
    "\n",
    "# Loop over the image files and put the data in the arrays\n",
    "for i in range(0,nt):\n",
    "    im = plt.imread(fname%(i*xframes))\n",
    "    imsR[:,:,i] = im[:,:,0]\n",
    "    imsG[:,:,i] = im[:,:,1]\n",
    "    imsB[:,:,i] = im[:,:,2]"
   ]
  },
  {
   "cell_type": "markdown",
   "metadata": {},
   "source": [
    "## Analysis of time-lapse images\n",
    "Now we have all the data loaded into a numpy arrays. There are 3 channels, but for simplicity here we will only consider the green (G) channel. To speed things up, take a subregion of the image to analyse. We do this by '[slicing](https://docs.scipy.org/doc/numpy/reference/arrays.indexing.html)' the array:"
   ]
  },
  {
   "cell_type": "code",
   "execution_count": null,
   "metadata": {
    "collapsed": false
   },
   "outputs": [],
   "source": [
    "imssub = imsG#[300:700,200:600,:]\n",
    "plt.imshow(imssub[:,:,-1])\n",
    "plt.colorbar()"
   ]
  },
  {
   "cell_type": "markdown",
   "metadata": {},
   "source": [
    "### Mean dynamics over image domain\n",
    "We can get some information by looking just at the variation in total image intensity in the time-series. Do this by taking the sum of the (x,y,t) stack over the first two dimensions (0,1):"
   ]
  },
  {
   "cell_type": "code",
   "execution_count": null,
   "metadata": {
    "collapsed": false
   },
   "outputs": [],
   "source": [
    "sumims = imssub.sum(axis=(0,1))\n",
    "plt.plot(sumims)\n",
    "plt.xlabel('Time step')\n",
    "plt.ylabel('Fluorescence intensity')"
   ]
  },
  {
   "cell_type": "markdown",
   "metadata": {},
   "source": [
    "### Identifying colonies\n",
    "#### Pre-processing\n",
    "The colonies vary in brightness over the experiment but do not move. So we can take the sum of intensity of each pixel over time, and use it to locate colonies reliably:"
   ]
  },
  {
   "cell_type": "code",
   "execution_count": null,
   "metadata": {
    "collapsed": false
   },
   "outputs": [],
   "source": [
    "ims_sum = imssub.sum(axis=2)\n",
    "plt.imshow(ims_sum)\n",
    "plt.colorbar()"
   ]
  },
  {
   "cell_type": "markdown",
   "metadata": {},
   "source": [
    "With any image its essential to remove noise before analysis, here with a [Gaussian filter](http://scikit-image.org/docs/dev/api/skimage.filters.html#skimage.filters.gaussian). Normalisation by scaling the image to (0,1) is also convenient:"
   ]
  },
  {
   "cell_type": "code",
   "execution_count": null,
   "metadata": {
    "collapsed": false
   },
   "outputs": [],
   "source": [
    "from skimage.filters import gaussian\n",
    "simsub = gaussian(ims_sum, 2)\n",
    "nsimsub = (simsub-simsub.min())/(simsub.max()-simsub.min())\n",
    "\n",
    "# Plot the result\n",
    "plt.imshow(nsimsub)\n",
    "plt.colorbar()"
   ]
  },
  {
   "cell_type": "markdown",
   "metadata": {},
   "source": [
    "#### Blob detection\n",
    "Scikit-image provides several functions to detect Gaussian-like features ([blobs](http://scikit-image.org/docs/dev/auto_examples/plot_blob.html)). We apply one of these ([blob_log](http://scikit-image.org/docs/dev/api/skimage.feature.html#skimage.feature.blob_log)) to the smoothed sum of intensity, and it returns a list of position (x,y) and width (standard deviation):"
   ]
  },
  {
   "cell_type": "code",
   "execution_count": null,
   "metadata": {
    "collapsed": false
   },
   "outputs": [],
   "source": [
    "import skimage.feature as skfeat\n",
    "A = skfeat.blob_log(nsimsub, min_sigma=1.0, max_sigma=10.0, num_sigma=100, threshold=0.25, overlap=0.8)\n",
    "\n",
    "# Print some of the results\n",
    "print (A.shape)\n",
    "print (A[0:4,:])"
   ]
  },
  {
   "cell_type": "markdown",
   "metadata": {},
   "source": [
    "The array A now contains the location (x,y) and size of probable colonies. The size is the standard deviation of the Gaussian blob, which we assume to be roughly 1/2 the radius. We can check by showing the image and plotting circles on top at each location contained in A:"
   ]
  },
  {
   "cell_type": "code",
   "execution_count": null,
   "metadata": {
    "collapsed": false
   },
   "outputs": [],
   "source": [
    "plt.figure(figsize=(8,8))\n",
    "plt.imshow(nsimsub, cmap='gray')\n",
    "plt.hold(True)\n",
    "for i in range(len(A)):\n",
    "    circle = plt.Circle((A[i,1], A[i,0]), 2*A[i,2], color='r', fill=False , lw=0.5)\n",
    "    fig = plt.gcf()\n",
    "    ax = fig.gca()\n",
    "    ax.add_artist(circle)"
   ]
  },
  {
   "cell_type": "markdown",
   "metadata": {},
   "source": [
    "### Time dynamics of colonies\n",
    "Now we have estimated colony location (and size) we can analyse the dynamics of fluorescence and growth. \n",
    "\n",
    "To restrict image analysis for each colony, we can extract a region at each location, with size given by the Gaussian width (x2 = 2 standard deviations). Here we put the image series into a dictionary indexed by colony. "
   ]
  },
  {
   "cell_type": "code",
   "execution_count": null,
   "metadata": {
    "collapsed": false
   },
   "outputs": [],
   "source": [
    "rois = {}\n",
    "for i in range(len(A)):\n",
    "    x = A[i,0]\n",
    "    y = A[i,1]\n",
    "    r = 2*A[i,2]\n",
    "    rois[i] = imssub[x-r:x+r,y-r:y+r,:]"
   ]
  },
  {
   "cell_type": "markdown",
   "metadata": {},
   "source": [
    "#### Colony total fluorescence \n",
    "Now we can plot the total fluoresence in the region of each colony:"
   ]
  },
  {
   "cell_type": "code",
   "execution_count": null,
   "metadata": {
    "collapsed": false
   },
   "outputs": [],
   "source": [
    "for i in range(len(A)):\n",
    "    plt.plot(rois[i].sum(axis=(0,1)))\n",
    "    plt.hold(True)\n",
    "plt.xlabel('Time step')\n",
    "plt.ylabel('Fluorescence intensity')"
   ]
  },
  {
   "cell_type": "markdown",
   "metadata": {},
   "source": [
    "#### Colony radius growth\n",
    "We have the location and some kind of size estimate based on the total fluorescence of each colony over the time-lapse. We would like to know the size of the colony in each frame; from this we can compute the growth rate.\n",
    "\n",
    "One way to do this is the find Gaussian blobs in each of the image regions of the colony, for each frame of the time-lapse. Then assume that the first (only?) blob detected is the colony we are interested in. \n",
    "\n",
    "The following loop finds blobs and stores the width in each frame. The result is a dictionary containing the size at each time point for every colony."
   ]
  },
  {
   "cell_type": "code",
   "execution_count": null,
   "metadata": {
    "collapsed": true
   },
   "outputs": [],
   "source": [
    "R = {}\n",
    "for k in range(len(A)):\n",
    "    R[k] = np.zeros((nt,))\n",
    "    for i in range(nt):\n",
    "        troi = rois[k][:,:,i].astype(np.float32)\n",
    "        if len(troi):\n",
    "            ntroi = (troi-troi.min())/(troi.max()-troi.min())\n",
    "            AA = skfeat.blob_log(ntroi, min_sigma=1.0, max_sigma=10.0, num_sigma=200, threshold=0.25, overlap=0.8)\n",
    "            if len(AA)>0:\n",
    "                R[k][i] = 2*AA[0,2]"
   ]
  },
  {
   "cell_type": "markdown",
   "metadata": {},
   "source": [
    "Since the colony is roughly circular and flat, an estimate of volume is $R^2$. Lets plot this for some colonies. Plotting the log is useful because the slope is the relative growth rate. We can see the colonies slow their growth during the experiment."
   ]
  },
  {
   "cell_type": "code",
   "execution_count": null,
   "metadata": {
    "collapsed": false
   },
   "outputs": [],
   "source": [
    "for i in range(len(A)):\n",
    "    r = R[i]\n",
    "    plt.plot(np.log(r*r), '.')\n",
    "    plt.hold(True)\n",
    "    \n",
    "plt.xlabel('Time step')\n",
    "plt.ylabel('Colony area (pixels^2)')"
   ]
  },
  {
   "cell_type": "markdown",
   "metadata": {},
   "source": [
    "To see how well the colony size is estimated, we can compare to the profile of a colony in a slice of its image region. The radius (red line) should give the border of the colony."
   ]
  },
  {
   "cell_type": "code",
   "execution_count": null,
   "metadata": {
    "collapsed": false
   },
   "outputs": [],
   "source": [
    "# Specify index of colony to plot\n",
    "idx = 3\n",
    "\n",
    "# Size of image data\n",
    "w,h,d = rois[idx].shape\n",
    "\n",
    "plt.figure(figsize=(12,8))\n",
    "\n",
    "# Plot the image data\n",
    "plt.imshow(rois[idx][w/2+1,:,:], interpolation='none', cmap='gray')\n",
    "plt.colorbar()\n",
    "plt.hold(True)\n",
    "\n",
    "# Plot the radius estimate\n",
    "plt.plot(-R[idx]+h/2+1,'r.')\n",
    "plt.plot(R[idx]+h/2+1,'r.')\n",
    "\n",
    "plt.xlabel('Time step')\n",
    "plt.ylabel('y-axis position')"
   ]
  },
  {
   "cell_type": "markdown",
   "metadata": {},
   "source": [
    "Notice that early in the experiment, time steps 0-3, the radius is estimated as zero because the colony is not visible to the camera. The more advanced example notebooks deal with this by fitting a growth curve to the estimated radius."
   ]
  }
 ],
 "metadata": {
  "anaconda-cloud": {},
  "kernelspec": {
   "display_name": "Python 3",
   "language": "python",
   "name": "python3"
  },
  "language_info": {
   "codemirror_mode": {
    "name": "ipython",
    "version": 3
   },
   "file_extension": ".py",
   "mimetype": "text/x-python",
   "name": "python",
   "nbconvert_exporter": "python",
   "pygments_lexer": "ipython3",
   "version": "3.6.0"
  }
 },
 "nbformat": 4,
 "nbformat_minor": 2
}
