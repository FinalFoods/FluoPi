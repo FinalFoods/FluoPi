{
 "cells": [
  {
   "cell_type": "markdown",
   "metadata": {},
   "source": [
    "Python code se estructura en modules y scripts. Este notebook es un script que usa modules escrito por otros y distribuido open source. Igual se puede escribir tus propios modules, usarlos en tu code y distribuir. Aqui empezamos a import modules:"
   ]
  },
  {
   "cell_type": "code",
   "execution_count": 12,
   "metadata": {
    "collapsed": false,
    "scrolled": false
   },
   "outputs": [],
   "source": [
    "from picamera import PiCamera\n",
    "import RPi.GPIO as GPIO\n",
    "from time import sleep\n",
    "import time\n",
    "import matplotlib.pyplot as plt"
   ]
  },
  {
   "cell_type": "markdown",
   "metadata": {},
   "source": [
    "Here is the rest of the code split up into blocks. Should add nice explanations and plotting images inline with matplotlib. Here is an equation $$\\nabla^2 u = 0$$ just because I can."
   ]
  },
  {
   "cell_type": "code",
   "execution_count": 13,
   "metadata": {
    "collapsed": false
   },
   "outputs": [],
   "source": [
    "GPIO.setmode(GPIO.BOARD)\n",
    "GPIO.setup(29, GPIO.OUT)"
   ]
  },
  {
   "cell_type": "code",
   "execution_count": 14,
   "metadata": {
    "collapsed": false
   },
   "outputs": [
    {
     "ename": "PiCameraMMALError",
     "evalue": "Camera component couldn't be enabled: Out of resources (other than memory)",
     "output_type": "error",
     "traceback": [
      "\u001b[0;31m---------------------------------------------------------------------------\u001b[0m",
      "\u001b[0;31mPiCameraMMALError\u001b[0m                         Traceback (most recent call last)",
      "\u001b[0;32m<ipython-input-14-873787671394>\u001b[0m in \u001b[0;36m<module>\u001b[0;34m()\u001b[0m\n\u001b[0;32m----> 1\u001b[0;31m \u001b[0mcamera\u001b[0m \u001b[0;34m=\u001b[0m \u001b[0mPiCamera\u001b[0m\u001b[0;34m(\u001b[0m\u001b[0;34m)\u001b[0m\u001b[0;34m\u001b[0m\u001b[0m\n\u001b[0m",
      "\u001b[0;32m/usr/lib/python2.7/dist-packages/picamera/camera.pyc\u001b[0m in \u001b[0;36m__init__\u001b[0;34m(self, camera_num, stereo_mode, stereo_decimate, resolution, framerate, sensor_mode, led_pin)\u001b[0m\n\u001b[1;32m    486\u001b[0m             self._init_camera(\n\u001b[1;32m    487\u001b[0m                 \u001b[0mcamera_num\u001b[0m\u001b[0;34m,\u001b[0m \u001b[0msensor_mode\u001b[0m\u001b[0;34m,\u001b[0m \u001b[0mresolution\u001b[0m\u001b[0;34m,\u001b[0m \u001b[0mframerate\u001b[0m\u001b[0;34m,\u001b[0m\u001b[0;34m\u001b[0m\u001b[0m\n\u001b[0;32m--> 488\u001b[0;31m                 self.STEREO_MODES[stereo_mode], stereo_decimate)\n\u001b[0m\u001b[1;32m    489\u001b[0m             \u001b[0mself\u001b[0m\u001b[0;34m.\u001b[0m\u001b[0m_init_defaults\u001b[0m\u001b[0;34m(\u001b[0m\u001b[0;34m)\u001b[0m\u001b[0;34m\u001b[0m\u001b[0m\n\u001b[1;32m    490\u001b[0m             \u001b[0mself\u001b[0m\u001b[0;34m.\u001b[0m\u001b[0m_init_preview\u001b[0m\u001b[0;34m(\u001b[0m\u001b[0;34m)\u001b[0m\u001b[0;34m\u001b[0m\u001b[0m\n",
      "\u001b[0;32m/usr/lib/python2.7/dist-packages/picamera/camera.pyc\u001b[0m in \u001b[0;36m_init_camera\u001b[0;34m(self, num, sensor_mode, resolution, framerate, stereo_mode, stereo_decimate)\u001b[0m\n\u001b[1;32m    618\u001b[0m         mmal_check(\n\u001b[1;32m    619\u001b[0m             \u001b[0mmmal\u001b[0m\u001b[0;34m.\u001b[0m\u001b[0mmmal_component_enable\u001b[0m\u001b[0;34m(\u001b[0m\u001b[0mself\u001b[0m\u001b[0;34m.\u001b[0m\u001b[0m_camera\u001b[0m\u001b[0;34m)\u001b[0m\u001b[0;34m,\u001b[0m\u001b[0;34m\u001b[0m\u001b[0m\n\u001b[0;32m--> 620\u001b[0;31m             prefix=\"Camera component couldn't be enabled\")\n\u001b[0m\u001b[1;32m    621\u001b[0m \u001b[0;34m\u001b[0m\u001b[0m\n\u001b[1;32m    622\u001b[0m     \u001b[0;32mdef\u001b[0m \u001b[0m_init_defaults\u001b[0m\u001b[0;34m(\u001b[0m\u001b[0mself\u001b[0m\u001b[0;34m)\u001b[0m\u001b[0;34m:\u001b[0m\u001b[0;34m\u001b[0m\u001b[0m\n",
      "\u001b[0;32m/usr/lib/python2.7/dist-packages/picamera/exc.pyc\u001b[0m in \u001b[0;36mmmal_check\u001b[0;34m(status, prefix)\u001b[0m\n\u001b[1;32m    189\u001b[0m     \"\"\"\n\u001b[1;32m    190\u001b[0m     \u001b[0;32mif\u001b[0m \u001b[0mstatus\u001b[0m \u001b[0;34m!=\u001b[0m \u001b[0mmmal\u001b[0m\u001b[0;34m.\u001b[0m\u001b[0mMMAL_SUCCESS\u001b[0m\u001b[0;34m:\u001b[0m\u001b[0;34m\u001b[0m\u001b[0m\n\u001b[0;32m--> 191\u001b[0;31m         \u001b[0;32mraise\u001b[0m \u001b[0mPiCameraMMALError\u001b[0m\u001b[0;34m(\u001b[0m\u001b[0mstatus\u001b[0m\u001b[0;34m,\u001b[0m \u001b[0mprefix\u001b[0m\u001b[0;34m)\u001b[0m\u001b[0;34m\u001b[0m\u001b[0m\n\u001b[0m\u001b[1;32m    192\u001b[0m \u001b[0;34m\u001b[0m\u001b[0m\n",
      "\u001b[0;31mPiCameraMMALError\u001b[0m: Camera component couldn't be enabled: Out of resources (other than memory)"
     ]
    }
   ],
   "source": [
    "camera = PiCamera()"
   ]
  },
  {
   "cell_type": "code",
   "execution_count": 15,
   "metadata": {
    "collapsed": true
   },
   "outputs": [],
   "source": [
    "folder = \"\"\n",
    "filename = \"exptest291116\"\n",
    "interval = 3\n",
    "steps = 3"
   ]
  },
  {
   "cell_type": "code",
   "execution_count": 16,
   "metadata": {
    "collapsed": false
   },
   "outputs": [],
   "source": [
    "#camera settings\n",
    "camera.awb_mode = 'off'\n",
    "camera.awb_gain = 1\n",
    "#camera.analog_gain = 1\n",
    "\n",
    "#camera.brightness = 60\n",
    "#camera.sharpness = 0\n",
    "#camera.contrast = 0\n",
    "#camera.saturation = 0\n",
    "camera.exposure_mode = 'fixedfps'\n",
    "\n",
    "camera.framerate = 1\n",
    "camera.shutter_speed = 10000"
   ]
  },
  {
   "cell_type": "code",
   "execution_count": 9,
   "metadata": {
    "collapsed": true
   },
   "outputs": [],
   "source": [
    "img = camera.capture('test.jpg')"
   ]
  },
  {
   "cell_type": "code",
   "execution_count": 20,
   "metadata": {
    "collapsed": false
   },
   "outputs": [
    {
     "name": "stdout",
     "output_type": "stream",
     "text": [
      "[[[  1 118   1]\n",
      "  [  6 123   6]\n",
      "  [  0 115   0]\n",
      "  ..., \n",
      "  [  0 218   0]\n",
      "  [  0 219   0]\n",
      "  [  0 220   0]]\n",
      "\n",
      " [[  0 117   0]\n",
      "  [  2 119   2]\n",
      "  [  0 109   0]\n",
      "  ..., \n",
      "  [  0 218   0]\n",
      "  [  0 222   1]\n",
      "  [  1 223   2]]\n",
      "\n",
      " [[  0 108   0]\n",
      "  [  0 114   0]\n",
      "  [  1 115   1]\n",
      "  ..., \n",
      "  [  4 226   3]\n",
      "  [  0 221   0]\n",
      "  [  0 222   1]]\n",
      "\n",
      " ..., \n",
      " [[  0   0   0]\n",
      "  [  0   0   0]\n",
      "  [  0   0   0]\n",
      "  ..., \n",
      "  [  0 163   0]\n",
      "  [  0 166   0]\n",
      "  [  0 162   0]]\n",
      "\n",
      " [[  0   0   0]\n",
      "  [  0   0   0]\n",
      "  [  0   0   0]\n",
      "  ..., \n",
      "  [  0 162   0]\n",
      "  [  0 163   0]\n",
      "  [  0 165   0]]\n",
      "\n",
      " [[  0   0   0]\n",
      "  [  0   0   0]\n",
      "  [  0   0   0]\n",
      "  ..., \n",
      "  [  0 162   0]\n",
      "  [  0 160   0]\n",
      "  [  0 164   0]]]\n"
     ]
    }
   ],
   "source": [
    "img = plt.imread('test.jpg')\n",
    "plt.interactive(True)\n",
    "plt.imshow(img)\n",
    "print img"
   ]
  },
  {
   "cell_type": "code",
   "execution_count": null,
   "metadata": {
    "collapsed": false
   },
   "outputs": [],
   "source": [
    "for i in range(steps):\n",
    "    t1 = time.time()\n",
    "    sleep(interval)\n",
    "\n",
    "    fname0 = folder + filename + \"_BG_%04d.jpg\"%(i)\n",
    "    #camera.start_preview()\n",
    "    #sleep(10)\n",
    "\n",
    "    camera.capture(fname0)\n",
    "\n",
    "    GPIO.output(29,GPIO.HIGH)\n",
    "    sleep(1)\n",
    "\n",
    "    #camera.start_preview()\n",
    "    #sleep(10)\n",
    "\n",
    "    fname = folder + filename + \"_%04d.jpg\"%(i)\n",
    "    camera.capture(fname)\n",
    "\n",
    "    print camera.exposure_speed\n",
    "\n",
    "    GPIO.output(29,GPIO.LOW)\n",
    "    #camera.stop_preview()\n",
    "\n",
    "    elapsed = time.time()-t1\n",
    "    print elapsed\n",
    "\n",
    "\n",
    "GPIO.cleanup()"
   ]
  },
  {
   "cell_type": "code",
   "execution_count": null,
   "metadata": {
    "collapsed": true
   },
   "outputs": [],
   "source": []
  },
  {
   "cell_type": "code",
   "execution_count": null,
   "metadata": {
    "collapsed": true
   },
   "outputs": [],
   "source": []
  }
 ],
 "metadata": {
  "kernelspec": {
   "display_name": "Python 2",
   "language": "python",
   "name": "python2"
  },
  "language_info": {
   "codemirror_mode": {
    "name": "ipython",
    "version": 2
   },
   "file_extension": ".py",
   "mimetype": "text/x-python",
   "name": "python",
   "nbconvert_exporter": "python",
   "pygments_lexer": "ipython2",
   "version": "2.7.9"
  }
 },
 "nbformat": 4,
 "nbformat_minor": 0
}
