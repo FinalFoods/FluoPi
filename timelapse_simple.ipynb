{
 "cells": [
  {
   "cell_type": "markdown",
   "metadata": {},
   "source": [
    "Python code se estructura en modules y scripts. Este notebook es un script que usa modules escrito por otros y distribuido open source. Igual se puede escribir tus propios modules, usarlos en tu code y distribuir. Aqui empezamos a import modules:"
   ]
  },
  {
   "cell_type": "code",
   "execution_count": null,
   "metadata": {
    "collapsed": false,
    "scrolled": false
   },
   "outputs": [],
   "source": [
    "from picamera import PiCamera\n",
    "import RPi.GPIO as GPIO\n",
    "from time import sleep\n",
    "import time\n",
    "import matplotlib.pyplot as plt"
   ]
  },
  {
   "cell_type": "markdown",
   "metadata": {},
   "source": [
    "Here is the rest of the code split up into blocks. Should add nice explanations and plotting images inline with matplotlib. Here is an equation $$\\nabla^2 u = 0$$ just because I can."
   ]
  },
  {
   "cell_type": "markdown",
   "metadata": {},
   "source": [
    "Set up the output pins of the Raspberry pi to operate the light switch:"
   ]
  },
  {
   "cell_type": "code",
   "execution_count": null,
   "metadata": {
    "collapsed": false
   },
   "outputs": [],
   "source": [
    "GPIO.setmode(GPIO.BOARD)\n",
    "GPIO.setup(29, GPIO.OUT)"
   ]
  },
  {
   "cell_type": "markdown",
   "metadata": {},
   "source": [
    "Create a camera object that will do the imaging:"
   ]
  },
  {
   "cell_type": "code",
   "execution_count": null,
   "metadata": {
    "collapsed": false
   },
   "outputs": [],
   "source": [
    "camera = PiCamera()"
   ]
  },
  {
   "cell_type": "markdown",
   "metadata": {},
   "source": [
    "Set some values for where things go and how often we take images:"
   ]
  },
  {
   "cell_type": "code",
   "execution_count": null,
   "metadata": {
    "collapsed": true
   },
   "outputs": [],
   "source": [
    "folder = \"\"\n",
    "filename = \"exptest291116\"\n",
    "interval = 3\n",
    "steps = 3"
   ]
  },
  {
   "cell_type": "markdown",
   "metadata": {},
   "source": [
    "Here we set the camera mode, we are trying to get constant (or at least known) exposure and gain:"
   ]
  },
  {
   "cell_type": "code",
   "execution_count": null,
   "metadata": {
    "collapsed": false
   },
   "outputs": [],
   "source": [
    "#camera settings\n",
    "camera.awb_mode = 'off'\n",
    "camera.awb_gain = 1\n",
    "#camera.analog_gain = 1\n",
    "\n",
    "#camera.brightness = 60\n",
    "#camera.sharpness = 0\n",
    "#camera.contrast = 0\n",
    "#camera.saturation = 0\n",
    "camera.exposure_mode = 'fixedfps'\n",
    "\n",
    "camera.framerate = 1\n",
    "camera.shutter_speed = 10000"
   ]
  },
  {
   "cell_type": "markdown",
   "metadata": {},
   "source": [
    "Lets take an image to test things:"
   ]
  },
  {
   "cell_type": "code",
   "execution_count": null,
   "metadata": {
    "collapsed": true
   },
   "outputs": [],
   "source": [
    "img = camera.capture('test.jpg')"
   ]
  },
  {
   "cell_type": "markdown",
   "metadata": {},
   "source": [
    "Here draw the image in the notebook:"
   ]
  },
  {
   "cell_type": "code",
   "execution_count": null,
   "metadata": {
    "collapsed": false
   },
   "outputs": [],
   "source": [
    "img = plt.imread('test.jpg')\n",
    "plt.interactive(True)\n",
    "plt.imshow(img)\n",
    "print img"
   ]
  },
  {
   "cell_type": "markdown",
   "metadata": {},
   "source": [
    "Make a loop, switch on light, take image, switch off light etc.:"
   ]
  },
  {
   "cell_type": "code",
   "execution_count": null,
   "metadata": {
    "collapsed": false
   },
   "outputs": [],
   "source": [
    "for i in range(steps):\n",
    "    t1 = time.time()\n",
    "    sleep(interval)\n",
    "\n",
    "    fname0 = folder + filename + \"_BG_%04d.jpg\"%(i)\n",
    "\n",
    "    camera.capture(fname0)\n",
    "\n",
    "    GPIO.output(29,GPIO.HIGH)\n",
    "    sleep(1)\n",
    "\n",
    "    fname = folder + filename + \"_%04d.jpg\"%(i)\n",
    "    camera.capture(fname)\n",
    "\n",
    "    print camera.exposure_speed\n",
    "\n",
    "    GPIO.output(29,GPIO.LOW)\n",
    "\n",
    "    elapsed = time.time()-t1\n",
    "    print elapsed\n",
    "\n",
    "\n",
    "GPIO.cleanup()"
   ]
  },
  {
   "cell_type": "code",
   "execution_count": null,
   "metadata": {
    "collapsed": true
   },
   "outputs": [],
   "source": []
  },
  {
   "cell_type": "code",
   "execution_count": null,
   "metadata": {
    "collapsed": true
   },
   "outputs": [],
   "source": []
  }
 ],
 "metadata": {
  "kernelspec": {
   "display_name": "Python 2",
   "language": "python",
   "name": "python2"
  },
  "language_info": {
   "codemirror_mode": {
    "name": "ipython",
    "version": 2
   },
   "file_extension": ".py",
   "mimetype": "text/x-python",
   "name": "python",
   "nbconvert_exporter": "python",
   "pygments_lexer": "ipython2",
   "version": "2.7.9"
  }
 },
 "nbformat": 4,
 "nbformat_minor": 0
}
