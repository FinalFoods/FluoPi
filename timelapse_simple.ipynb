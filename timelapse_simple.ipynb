{
 "cells": [
  {
   "cell_type": "markdown",
   "metadata": {},
   "source": [
    "Python code se estructura en modules y scripts. Este notebook es un script que usa modules escrito por otros y distribuido open source. Igual se puede escribir tus propios modules, usarlos en tu code y distribuir. Aqui empezamos a import modules:"
   ]
  },
  {
   "cell_type": "code",
   "execution_count": null,
   "metadata": {
    "collapsed": false
   },
   "outputs": [],
   "source": [
    "from picamera import PiCamera\n",
    "import RPi.GPIO as GPIO\n",
    "from time import sleep"
   ]
  },
  {
   "cell_type": "markdown",
   "metadata": {},
   "source": [
    "Here is the rest of the code split up into blocks. Should add nice explanations and plotting images inline with matplotlib. Here is an equation $$\\nabla^2 u = 0$$ just because I can."
   ]
  },
  {
   "cell_type": "code",
   "execution_count": null,
   "metadata": {
    "collapsed": true
   },
   "outputs": [],
   "source": [
    "GPIO.setmode(GPIO.BOARD)\n",
    "GPIO.setup(29, GPIO.OUT)"
   ]
  },
  {
   "cell_type": "code",
   "execution_count": null,
   "metadata": {
    "collapsed": true
   },
   "outputs": [],
   "source": [
    "camera = PiCamera()"
   ]
  },
  {
   "cell_type": "code",
   "execution_count": 2,
   "metadata": {
    "collapsed": true
   },
   "outputs": [],
   "source": [
    "folder = \"/mnt/usb/TL30_10/\"\n",
    "filename = \"timlap\"\n",
    "interval = 600\n",
    "steps = 288"
   ]
  },
  {
   "cell_type": "code",
   "execution_count": null,
   "metadata": {
    "collapsed": false
   },
   "outputs": [],
   "source": [
    "#camera settings\n",
    "camera.awb_mode = 'fluorescent'\n",
    "#camera.brightness = 60\n",
    "#camera.sharpness = 0\n",
    "#camera.contrast = 0\n",
    "#camera.saturation = 0\n",
    "#camera.exposure_mode = 0"
   ]
  },
  {
   "cell_type": "code",
   "execution_count": null,
   "metadata": {
    "collapsed": true
   },
   "outputs": [],
   "source": [
    "for i in range(steps):\n",
    "\n",
    "        fname0 = folder + filename + \"_BG3_%04d.jpg\"%(i)\n",
    "        camera.start_preview()\n",
    "\tsleep(10)\n",
    "        camera.capture(fname0)\n",
    "        \n",
    "\tGPIO.output(29,GPIO.HIGH)\n",
    "\tsleep(1)\n",
    "\t\n",
    "\tcamera.start_preview()\n",
    "\tsleep(10)\n",
    "\t\n",
    "\tfname = folder + filename + \"_3_%04d.jpg\"%(i)\n",
    "\tcamera.capture(fname)\n",
    "\t\n",
    "\tGPIO.output(29,GPIO.LOW)\n",
    "\tcamera.stop_preview()\n",
    "\tsleep(interval-21)\n",
    "\n",
    "\n",
    "GPIO.cleanup()\n"
   ]
  }
 ],
 "metadata": {
  "kernelspec": {
   "display_name": "Python 2",
   "language": "python",
   "name": "python2"
  },
  "language_info": {
   "codemirror_mode": {
    "name": "ipython",
    "version": 2
   },
   "file_extension": ".py",
   "mimetype": "text/x-python",
   "name": "python",
   "nbconvert_exporter": "python",
   "pygments_lexer": "ipython2",
   "version": "2.7.12"
  }
 },
 "nbformat": 4,
 "nbformat_minor": 0
}
