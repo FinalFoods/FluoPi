{
 "cells": [
  {
   "cell_type": "markdown",
   "metadata": {},
   "source": [
    "### Explanation\n",
    "This code analyses time lapse images of plates with growing colonies and gets their size and mean fluorescence over time together with some valuable characterization of their dynamics. It uses the python module FluoPi to perform these tasks.\n",
    "\n",
    "##### Requirements\n",
    " - All images have to be same size\n",
    "\n",
    "\n",
    "## Analysis\n",
    "\n",
    "### Loading packages\n",
    "As part of the FluoPi project we provide a python module to manage and analyse time lapse data. We will also use some common modules for plotting and analysing data:"
   ]
  },
  {
   "cell_type": "code",
   "execution_count": null,
   "metadata": {
    "collapsed": false
   },
   "outputs": [],
   "source": [
    "# Import the FluoPi module\n",
    "import fluopi\n",
    "\n",
    "# import some useful packages to manage the data\n",
    "\n",
    "%matplotlib inline\n",
    "import matplotlib\n",
    "import matplotlib.pyplot as plt\n",
    "import numpy as np\n",
    "\n",
    "#modify some matplotlib parameters to manage the images for illustrator\n",
    "matplotlib.rcParams['pdf.fonttype'] = 42\n",
    "matplotlib.rcParams['ps.fonttype'] = 42"
   ]
  },
  {
   "cell_type": "markdown",
   "metadata": {},
   "source": [
    "### Loading Data"
   ]
  },
  {
   "cell_type": "markdown",
   "metadata": {},
   "source": [
    "Specifying the folder name where the images are stored, we can count the files:"
   ]
  },
  {
   "cell_type": "code",
   "execution_count": null,
   "metadata": {
    "collapsed": false
   },
   "outputs": [],
   "source": [
    "fpath = '../Lab_27_1_17_pLac'\n",
    "imCount = fluopi.count_files(fpath, 'jpg')"
   ]
  },
  {
   "cell_type": "code",
   "execution_count": null,
   "metadata": {
    "collapsed": false
   },
   "outputs": [],
   "source": [
    "fpath = 'D:\\Dropbox\\FTI\\Raspiscope\\Time lapse\\Lab_27_1_17_pLac'\n",
    "imCount = fluopi.count_files(fpath, 'jpg')"
   ]
  },
  {
   "cell_type": "markdown",
   "metadata": {
    "collapsed": true
   },
   "source": [
    "The FluoPi module provides a function to read images and save their values in 3-dimensional arrays (one for each channel). Now we can use this function to read and store the data of the images on a defined array for each channel:"
   ]
  },
  {
   "cell_type": "code",
   "execution_count": null,
   "metadata": {
    "collapsed": false
   },
   "outputs": [],
   "source": [
    "import os\n",
    "fname = os.path.join(fpath, 'image_%04d.jpg')\n",
    "\n",
    "Frames=12   # use one image every 12 frames\n",
    "\n",
    "DataS={}\n",
    "DataS['R'],DataS['G'],DataS['B'] = fluopi.get_im_data(Frames,imCount,fname)\n",
    "DataS['Im']=fname     # to store the related image source\n",
    "\n",
    "# also define a vector with the channels\n",
    "channels=['R','G','B']"
   ]
  },
  {
   "cell_type": "markdown",
   "metadata": {
    "collapsed": true
   },
   "source": [
    "Finally is important know the time step value used on the timelapse. It can be know from the python timelapse code stored on the folder (named 'interval' on the code)."
   ]
  },
  {
   "cell_type": "code",
   "execution_count": null,
   "metadata": {
    "collapsed": true
   },
   "outputs": [],
   "source": [
    "#define it on hour units\n",
    "dT= 1.0/12.0  #hours\n",
    "\n",
    "#in this example interval = 5 min for each frame\n"
   ]
  },
  {
   "cell_type": "markdown",
   "metadata": {},
   "source": [
    "With this, we can construct a **time vector** 'T' for *DataS*"
   ]
  },
  {
   "cell_type": "code",
   "execution_count": null,
   "metadata": {
    "collapsed": false
   },
   "outputs": [],
   "source": [
    "w,h,st=DataS['R'].shape\n",
    "T=np.zeros((st))\n",
    "for i in range(0,st):\n",
    "    T[i]=(i)*Frames*dT\n",
    "\n",
    "print(T)"
   ]
  },
  {
   "cell_type": "markdown",
   "metadata": {
    "collapsed": true
   },
   "source": [
    "### Data management\n",
    "\n",
    "#### Background computation and substraction\n",
    "\n",
    "To take the valuable data of images is good to know the amount of background we have on it, if it changes over time or how noisy is it.\n",
    "\n",
    "By ploting a transect of pixel values for each channel on an image, we can figure the efect of background: "
   ]
  },
  {
   "cell_type": "code",
   "execution_count": null,
   "metadata": {
    "collapsed": false
   },
   "outputs": [],
   "source": [
    "fluopi.row_transect(DataS, row=int(w/2), xframes=10)"
   ]
  },
  {
   "cell_type": "markdown",
   "metadata": {
    "collapsed": true
   },
   "source": [
    "As you can see, data shows \"peaks\" (colonies) and a basal value along the line (background signal)"
   ]
  },
  {
   "cell_type": "markdown",
   "metadata": {},
   "source": [
    "Then, to distinguish cell fluorescence from media and background light, we can select some empty sector on the image (i.e. without colonies) and compute his mean value on each frame."
   ]
  },
  {
   "cell_type": "code",
   "execution_count": null,
   "metadata": {
    "collapsed": false
   },
   "outputs": [],
   "source": [
    "BG = fluopi.BG_Val(512, 610, 280, 450, DataS, imCount)"
   ]
  },
  {
   "cell_type": "markdown",
   "metadata": {},
   "source": [
    "We can substract this background value from each frame using BG_subst:"
   ]
  },
  {
   "cell_type": "code",
   "execution_count": null,
   "metadata": {
    "collapsed": false
   },
   "outputs": [],
   "source": [
    "DataSB = fluopi.BG_subst(DataS,BG)"
   ]
  },
  {
   "cell_type": "markdown",
   "metadata": {},
   "source": [
    "and we can check the effect on the background"
   ]
  },
  {
   "cell_type": "code",
   "execution_count": null,
   "metadata": {
    "collapsed": false
   },
   "outputs": [],
   "source": [
    "_ = fluopi.BG_Val(512, 610, 280, 450, DataSB, imCount)"
   ]
  },
  {
   "cell_type": "markdown",
   "metadata": {},
   "source": [
    "Background was practically eliminated."
   ]
  },
  {
   "cell_type": "markdown",
   "metadata": {},
   "source": [
    "### Get colony position\n",
    "Here we are interested on identify the place where colonies are situated\n",
    "\n",
    "A good way to do it is by sum the value of each pixel for all the channels and all the frames"
   ]
  },
  {
   "cell_type": "code",
   "execution_count": null,
   "metadata": {
    "collapsed": false
   },
   "outputs": [],
   "source": [
    "SumData = fluopi.dataOT(DataSB)"
   ]
  },
  {
   "cell_type": "markdown",
   "metadata": {},
   "source": [
    "Now we can see each colony as a more clear point"
   ]
  },
  {
   "cell_type": "markdown",
   "metadata": {},
   "source": [
    "#### Filter application\n",
    "To improve the border detection and reduce the noise is recommended  to apply a filter to smooth the data. A simple and effective gaussian filter is provided by skimage package:\n",
    "[skimage gaussian filter](http://scikit-image.org/docs/dev/api/skimage.filters.html#skimage.filters.gaussian)"
   ]
  },
  {
   "cell_type": "code",
   "execution_count": null,
   "metadata": {
    "collapsed": true
   },
   "outputs": [],
   "source": [
    "from skimage.filters import gaussian"
   ]
  },
  {
   "cell_type": "markdown",
   "metadata": {},
   "source": [
    "The effect of the filter can be understood with the next example:"
   ]
  },
  {
   "cell_type": "code",
   "execution_count": null,
   "metadata": {
    "collapsed": false
   },
   "outputs": [],
   "source": [
    "#see the effect of the filter\n",
    "a = np.zeros((3, 3))\n",
    "a[1,1]=1\n",
    "print(a)\n",
    "gaussian(a, sigma=1)"
   ]
  },
  {
   "cell_type": "markdown",
   "metadata": {},
   "source": [
    "Then we apply a the filter to the data (re-run the next line with different sigma values until you are agree with the smooth):"
   ]
  },
  {
   "cell_type": "code",
   "execution_count": null,
   "metadata": {
    "collapsed": false
   },
   "outputs": [],
   "source": [
    "sDatS,sDatSall,sDatST=fluopi.smoothDat(DataSB,sigma=0.7)"
   ]
  },
  {
   "cell_type": "markdown",
   "metadata": {},
   "source": [
    "And we can see the plot of the sumarized result"
   ]
  },
  {
   "cell_type": "code",
   "execution_count": null,
   "metadata": {
    "collapsed": false
   },
   "outputs": [],
   "source": [
    "plt.imshow(sDatSall)\n",
    "plt.colorbar()\n",
    "plt.title('All channels')"
   ]
  },
  {
   "cell_type": "markdown",
   "metadata": {},
   "source": [
    "#### Blob detection\n",
    "Scikit-image provides several functions to detect Gaussian-like features ([blobs](http://scikit-image.org/docs/dev/auto_examples/plot_blob.html)). We apply one of these ([blob_log](http://scikit-image.org/docs/dev/api/skimage.feature.html#skimage.feature.blob_log)) to the smoothed sum of intensity, and it returns a list of position (x,y) and width (standard deviation):"
   ]
  },
  {
   "cell_type": "markdown",
   "metadata": {},
   "source": [
    "To properly identification, it's important to set the threshold for each dataset manually (based on the previous colormap)"
   ]
  },
  {
   "cell_type": "code",
   "execution_count": null,
   "metadata": {
    "collapsed": false,
    "scrolled": true
   },
   "outputs": [],
   "source": [
    "blobD = fluopi.colonyBlob(sDatSall,0.26,fname%599,filename='Plots/DetectedBlobs')"
   ]
  },
  {
   "cell_type": "markdown",
   "metadata": {},
   "source": [
    "With the previous procedure we have identified where each colony is placed\n",
    "\n",
    "To perform further analysis on each colony it is necesary to store these regions of interest (ROI) and his data, with size given by the Gaussian width (x2 = 2 standard deviations)."
   ]
  },
  {
   "cell_type": "code",
   "execution_count": null,
   "metadata": {
    "collapsed": false
   },
   "outputs": [],
   "source": [
    "Rois,RoisC,NC = fluopi.obtain_rois(sDatST,blobD)"
   ]
  },
  {
   "cell_type": "markdown",
   "metadata": {},
   "source": [
    "we can ilustrate the data with the first blob (colony)"
   ]
  },
  {
   "cell_type": "code",
   "execution_count": null,
   "metadata": {
    "collapsed": false
   },
   "outputs": [],
   "source": [
    "# show the first column of the first ROI\n",
    "print(Rois['R'][0][:,1,1])\n",
    "print(RoisC['R'][0][:,1,1]) #it contains only the pixels inside the circular region, and make the other equal to zero"
   ]
  },
  {
   "cell_type": "markdown",
   "metadata": {},
   "source": [
    "The ROI let us to track every colony in a seperatelly way. The module includes a package to save an image of a selected ROI at selected times. Then is possible make timelapse grow of an indivial colony."
   ]
  },
  {
   "cell_type": "code",
   "execution_count": null,
   "metadata": {
    "collapsed": false
   },
   "outputs": [],
   "source": [
    "idx=1\n",
    "fname=('ROIs/Col'+str(idx)+'_ROI_step%d.png')\n",
    "Times=[24,29,34,39,44,49]\n",
    "\n",
    "fluopi.TL_ROI(Rois,idx,Times,fname,[2,3])"
   ]
  },
  {
   "cell_type": "markdown",
   "metadata": {},
   "source": [
    "### Time dynamics of colonies\n",
    "As we have estimated colony location (and maximmum size), we can analyse the dynamics of fluorescence and growth of them. \n",
    "\n",
    "#### Fluorescence dynamics\n",
    "With the data obtained so far we can plot the fluorescence dynamics of colonies. We can choose some representative colonies and use the FluoPi rois_plt_Fdynam() function to perform this task:"
   ]
  },
  {
   "cell_type": "code",
   "execution_count": null,
   "metadata": {
    "collapsed": false
   },
   "outputs": [],
   "source": [
    "#define the selected colonies\n",
    "Cols=[1,17,45,79,66,125,81,109,121]\n",
    "\n",
    "#use the function to plot\n",
    "fluopi.rois_plt_Fdynam(RoisC,T,Cols,filename='Plots/Channel_total_intensity')\n",
    "print('Each line correspond to a different ROI')"
   ]
  },
  {
   "cell_type": "markdown",
   "metadata": {},
   "source": [
    "#### Colony radius growth\n",
    "We have the location and a final size estimate based on the total fluorescence of each colony over the time-lapse. We would like to know the size of the colony in each frame; from this we can compute the growth rate.\n",
    "\n",
    "One way to do this is to find Gaussian blobs in each of the image regions of the colony, for each frame of the time-lapse.This is very slow\n",
    "\n",
    "First we perform the sum of all channels for each frame to get the best representation of colony size:"
   ]
  },
  {
   "cell_type": "code",
   "execution_count": null,
   "metadata": {
    "collapsed": false
   },
   "outputs": [],
   "source": [
    "ACRois=fluopi.channelSum(RoisC,Cols) #circular ROIS"
   ]
  },
  {
   "cell_type": "code",
   "execution_count": null,
   "metadata": {
    "collapsed": false
   },
   "outputs": [],
   "source": [
    "ACRoisS=fluopi.channelSum(Rois,Cols) #square ROIS"
   ]
  },
  {
   "cell_type": "markdown",
   "metadata": {},
   "source": [
    "The following loop finds blobs and stores the width in each frame. The result is a dict containing the size at each time point for every colony"
   ]
  },
  {
   "cell_type": "code",
   "execution_count": null,
   "metadata": {
    "collapsed": false
   },
   "outputs": [],
   "source": [
    "import time\n",
    "start = time.time()\n",
    "R_frame5=fluopi.frame_colony_radius(ACRoisS,Cols,0.37)\n",
    "end = time.time()\n",
    "print(str(end - start)+' seg')"
   ]
  },
  {
   "cell_type": "markdown",
   "metadata": {},
   "source": [
    "Since the colony is roughly circular and flat, an estimate of volume is $R^2$. Lets plot this for some colonies. Plotting the log is useful because the slope is the relative growth rate. We can see the colonies slow their growth during the experiment."
   ]
  },
  {
   "cell_type": "code",
   "execution_count": null,
   "metadata": {
    "collapsed": false
   },
   "outputs": [],
   "source": [
    "fluopi.plot_radius(R_frame5, Cols, T)\n",
    "print('Each line correspond to one colony')"
   ]
  },
  {
   "cell_type": "markdown",
   "metadata": {},
   "source": [
    "#### Check the radius estimate\n",
    "To see how well the colony size is estimated, we can compare to the profile of a colony in a slice of its image region. The radius (red line) should give the border of the colony."
   ]
  },
  {
   "cell_type": "code",
   "execution_count": null,
   "metadata": {
    "collapsed": false
   },
   "outputs": [],
   "source": [
    "IDCol=Cols[2]\n",
    "plt.figure()\n",
    "plt.imshow(ACRoisS[IDCol][:,:,-1], interpolation='none', cmap='gray')\n",
    "\n",
    "fluopi.checkR(R_frame5[IDCol],ACRoisS,IDCol,T,filename='Plots/Chemograph_'+str(IDCol))\n"
   ]
  },
  {
   "cell_type": "markdown",
   "metadata": {},
   "source": [
    "##### Getting the colony area over time $A(t)$\n",
    "with the radio value we are able to get the colony area over time by taking it as a perfect circle: $$A(t) = \\pi \\cdot r^{2}$$"
   ]
  },
  {
   "cell_type": "code",
   "execution_count": null,
   "metadata": {
    "collapsed": false
   },
   "outputs": [],
   "source": [
    "A=fluopi.Area(R_frame5,Cols,T)"
   ]
  },
  {
   "cell_type": "markdown",
   "metadata": {},
   "source": [
    "To improve determination of radio we can fix a monotonically incresing function to the obstained values for each colony. This function could be of sigmodial type:\n",
    "\\begin{equation}\n",
    "A(t) = \\frac{a}{1+ e^{-d(t+b)}}\n",
    "\\end{equation}"
   ]
  },
  {
   "cell_type": "markdown",
   "metadata": {},
   "source": [
    "where $a$ is the maximum area of the colony ($a = A_{max}$) and  $b$ is the time where the colony reach half of his maximum growth ($b = t_d$)"
   ]
  },
  {
   "cell_type": "markdown",
   "metadata": {},
   "source": [
    "You can se the effect of the parameters evaluating the function F_sigma:"
   ]
  },
  {
   "cell_type": "code",
   "execution_count": null,
   "metadata": {
    "collapsed": false
   },
   "outputs": [],
   "source": [
    "Sigmoid=fluopi.F_sigma(T, 80, -20, 0.2)\n",
    "plt.plot(T,Sigmoid)"
   ]
  },
  {
   "cell_type": "markdown",
   "metadata": {},
   "source": [
    "With the function Function_fit you can fit a mathematical model (F_sigma by default) to one seleceted colony:"
   ]
  },
  {
   "cell_type": "code",
   "execution_count": null,
   "metadata": {
    "collapsed": false
   },
   "outputs": [],
   "source": [
    "idx=Cols[2:3] # idx have to be an array, then to select one colony use this notation Cols[desired:desired+1]\n",
    "init=20\n",
    "end=-1\n",
    "SingleF=fluopi.Function_fit(T,A,init,end,idx)"
   ]
  },
  {
   "cell_type": "markdown",
   "metadata": {},
   "source": [
    "or you can perform the fit to a dictionary of selected colonies with the same function:"
   ]
  },
  {
   "cell_type": "code",
   "execution_count": null,
   "metadata": {
    "collapsed": false
   },
   "outputs": [],
   "source": [
    "init=21\n",
    "end=-1\n",
    "A_fitS=fluopi.Function_fit(T,A,init,end,Cols)"
   ]
  },
  {
   "cell_type": "markdown",
   "metadata": {},
   "source": [
    "We can put alltogheter on one plot:"
   ]
  },
  {
   "cell_type": "code",
   "execution_count": null,
   "metadata": {
    "collapsed": false
   },
   "outputs": [],
   "source": [
    "fluopi.plot_radius(A,Cols,T)\n",
    "for i in Cols:\n",
    "    plt.plot(T,A_fitS[i][0],'-',label='colony '+str(i))\n",
    "plt.ylabel('Area $[pixels]^2$')  #borrar estas\n",
    "plt.title('Colonies Area')\n",
    "#plt.xlabel('Time [h]')\n",
    "plt.legend(loc='upper left')\n",
    "plt.savefig(\"Plots/AreaFit.pdf\", transparent=True)"
   ]
  },
  {
   "cell_type": "markdown",
   "metadata": {},
   "source": [
    "With the area function we are able to back-compute the radius: $$ r (t) = \\sqrt{\\frac{A(t)}{\\pi}} $$"
   ]
  },
  {
   "cell_type": "code",
   "execution_count": null,
   "metadata": {
    "collapsed": false
   },
   "outputs": [],
   "source": [
    "from math import pi\n",
    "r_fit={}\n",
    "\n",
    "plt.figure()\n",
    "for i in Cols:\n",
    "    r_fit[i]=(A_fitS[i][0]/pi)**(0.5)\n",
    "    \n",
    "    plt.plot(T,r_fit[i],'-',label='colony '+str(i))\n",
    "\n",
    "plt.title('fitted radius')\n",
    "plt.ylabel('radius [pixels]')\n",
    "plt.xlabel('time [h]')\n",
    "plt.legend(loc='upper left')\n",
    "plt.savefig(\"Plots/colonyRadiusFit.pdf\", transparent=True)"
   ]
  },
  {
   "cell_type": "markdown",
   "metadata": {},
   "source": [
    "We can plot it and the blob radios together:"
   ]
  },
  {
   "cell_type": "code",
   "execution_count": null,
   "metadata": {
    "collapsed": false
   },
   "outputs": [],
   "source": [
    "fluopi.plot_radius(R_frame5,Cols,T)\n",
    "for i in Cols:\n",
    "    plt.plot(T,r_fit[i],'-',label='colony '+str(i))\n",
    "plt.title('Radius')\n",
    "plt.ylabel('radius [pixels]')\n",
    "plt.xlabel('time [h]')\n",
    "plt.legend(loc='upper left')\n",
    "plt.savefig(\"Plots/colonyRadiusFit_points.pdf\", transparent=True)"
   ]
  },
  {
   "cell_type": "markdown",
   "metadata": {
    "collapsed": false
   },
   "source": [
    "Now we can check the radio stimation again:"
   ]
  },
  {
   "cell_type": "code",
   "execution_count": null,
   "metadata": {
    "collapsed": false
   },
   "outputs": [],
   "source": [
    "IDCol=Cols[2]\n",
    "fluopi.checkR(r_fit[IDCol],ACRoisS,IDCol,T,filename='Plots/Chemograph_fit_'+str(IDCol))\n"
   ]
  },
  {
   "cell_type": "markdown",
   "metadata": {},
   "source": [
    "colony grows stimation seems to get more cotinuous and improve greatly at the beginning."
   ]
  },
  {
   "cell_type": "markdown",
   "metadata": {},
   "source": [
    "### Parameter estimation from data"
   ]
  },
  {
   "cell_type": "markdown",
   "metadata": {},
   "source": [
    "We now have information about sub-populations of bacteria (colonies) on the same plate. The fluorescence in each region of interest estimates the time varying fluorescent protein level in each colony. The radius (or $R^2$) approximates the size of each sub-population (colony) and so is similar to optical density (OD) in a bulk plate-reader experiment. \n",
    "\n",
    "Lets write a simple model of fluorescent protein expression from a single cell:\n",
    "\n",
    "\\begin{equation}\n",
    "\\frac{dF}{dt} = k(t) - (\\mu(t) + \\delta(t))F\n",
    "\\end{equation}\n",
    "\n",
    "where $F$ is the cell's fluorescent protein concentration, which is produced at time-varying rate $k(t)$. The cell grows at relative rate $\\mu(t)=(1/V)dV/dt$ ($V=$volume) causing dilution, but assuming a constant thickness of the colony it becomes proportional to the area: $\\mu(t)=(1/A)dA/dt$ ($A=$area). \n",
    "The protein is degraded at rate $\\delta(t)$.\n",
    "\n",
    "\n",
    "For the proteins we are using we will assume that $\\delta(t)=0$ for all times. We measure the total fluorescence intensity, which is the concentration $F$ multiplied by the total volume of the colony $A_{tot} = \\pi R^2$. Hence,\n",
    "\n",
    "\\begin{equation}\n",
    "I(t) = F(t)A(t) \\approx F(t) \\pi R^2(t)\n",
    "\\end{equation}\n",
    "\n",
    "From these equations it is possible to derive:\n",
    "\n",
    "\\begin{equation}\n",
    "k(t) = \\frac{1}{A(t)}\\frac{dI}{dt}\n",
    "\\end{equation}\n"
   ]
  },
  {
   "cell_type": "markdown",
   "metadata": {},
   "source": [
    "To get an acurate analysis of the dynamics of the colonies, the module include a function to compute the average value inside the limits of the colony (defined by the radio fitting) on each time. This average value correspond to $I/A$ (see the maths)"
   ]
  },
  {
   "cell_type": "code",
   "execution_count": null,
   "metadata": {
    "collapsed": false
   },
   "outputs": [],
   "source": [
    "MeanInt=fluopi.CRoiMeanInt_frames(sDatST,blobD,r_fit,Cols)"
   ]
  },
  {
   "cell_type": "code",
   "execution_count": null,
   "metadata": {
    "collapsed": false
   },
   "outputs": [],
   "source": [
    "idx=Cols[1]\n",
    "plt.plot(T,MeanInt['R'][idx],'.',color='r')\n",
    "plt.plot(T,MeanInt['G'][idx],'.',color='g')\n",
    "plt.plot(T,MeanInt['B'][idx],'.',color='b')\n",
    "plt.legend(loc='upper right')\n",
    "plt.ylabel('Mean intensity')\n",
    "plt.xlabel('Time [h]')\n",
    "plt.title('colony '+str(idx))"
   ]
  },
  {
   "cell_type": "markdown",
   "metadata": {},
   "source": [
    "by sum the three channels we can get the total intensity per area $(I/A)_{total}$"
   ]
  },
  {
   "cell_type": "code",
   "execution_count": null,
   "metadata": {
    "collapsed": false
   },
   "outputs": [],
   "source": [
    "#let's sum the three channels\n",
    "MeanInt3C={}\n",
    "for i in Cols:\n",
    "    Vaux=np.zeros((MeanInt['R'][i].shape))\n",
    "    for c in channels:\n",
    "        Vaux+=MeanInt[c][i]\n",
    "    \n",
    "    MeanInt3C[i]= Vaux"
   ]
  },
  {
   "cell_type": "code",
   "execution_count": null,
   "metadata": {
    "collapsed": false
   },
   "outputs": [],
   "source": [
    "plt.figure()\n",
    "for i in Cols:\n",
    "    plt.plot(T,MeanInt3C[i],'.',label='colony '+str(i))\n",
    "    plt.title('Mean Fluorescence')\n",
    "    plt.xlabel('Time [h]')\n",
    "    plt.ylabel('Intensity [RGB value]')\n",
    "    plt.legend(loc='upper left')\n",
    "    \n",
    "plt.savefig(\"Plots/MeanInt.pdf\", transparent=True)\n",
    "\n",
    "print('this plot contain the sum of the mean of the three channels over time for each colony')"
   ]
  },
  {
   "cell_type": "markdown",
   "metadata": {},
   "source": [
    "With that is possible to compute the derivative of this value: $ d(I/A)/dt $"
   ]
  },
  {
   "cell_type": "code",
   "execution_count": null,
   "metadata": {
    "collapsed": false
   },
   "outputs": [],
   "source": [
    "dIAdt={}\n",
    "plt.figure(figsize=(10,6))\n",
    "for i in Cols:\n",
    "    #delta_MeanInt3C is the intensity divided by the area = d(I/A)/dt\n",
    "    delta_MeanInt3C = np.diff(MeanInt3C[i])\n",
    "    delta_T=np.diff(T)\n",
    "    dIAdt[i] = delta_MeanInt3C/delta_T\n",
    "    plt.plot(T[1:],dIAdt[i],'-',label='colony '+str(i))\n",
    "    plt.xlabel('Time (h)')\n",
    "    plt.ylabel('d(I/A)/dt')\n",
    "    plt.ylim([-1,11])\n",
    "    plt.legend(loc='upper left')\n",
    "    plt.title('Colony mean intensity derivative')"
   ]
  },
  {
   "cell_type": "markdown",
   "metadata": {},
   "source": [
    "Now i should try the smooth splite to correct the estimation.\n",
    "Also we should try to get the $\\mu(t)=(1/A)dA/dt$\n",
    "that is equal to: $$\\mu = \\frac{2 \\cdot d}{e^{d \\cdot (t+b)}+1} $$"
   ]
  },
  {
   "cell_type": "code",
   "execution_count": null,
   "metadata": {
    "collapsed": false
   },
   "outputs": [],
   "source": [
    "Mu_val={}\n",
    "for i in Cols:\n",
    "    Mu_val[i]=fluopi.F_mu(T,A_fitS[i][1][1],A_fitS[i][1][2])\n",
    "    plt.plot(T,Mu_val[i],'-',label='colony '+str(i))\n",
    "    plt.xlabel('Time (h)')\n",
    "    plt.ylabel(r'$\\mu (t)$')\n",
    "    plt.xlim([0,50])\n",
    "    plt.ylim([0,0.3])\n",
    "    plt.legend(loc='upper right')\n",
    "plt.savefig(\"Plots/GrowthRate.pdf\", transparent=True)\n"
   ]
  },
  {
   "cell_type": "markdown",
   "metadata": {},
   "source": [
    "## Data smoothing"
   ]
  },
  {
   "cell_type": "code",
   "execution_count": null,
   "metadata": {
    "collapsed": true
   },
   "outputs": [],
   "source": [
    "from scipy.interpolate import UnivariateSpline"
   ]
  },
  {
   "cell_type": "markdown",
   "metadata": {},
   "source": [
    "[Univariate Spline Documentation](https://docs.scipy.org/doc/scipy-0.19.0/reference/generated/scipy.interpolate.UnivariateSpline.html)"
   ]
  },
  {
   "cell_type": "code",
   "execution_count": null,
   "metadata": {
    "collapsed": false
   },
   "outputs": [],
   "source": [
    "dIAdt_smooth={}\n",
    "#define a color vector\n",
    "colors = plt.cm.Paired(np.linspace(0, 1, len(Cols))) #Paired o jet #https://matplotlib.org/users/colormaps.html\n",
    "\n",
    "for i, c in zip(Cols, colors):\n",
    "    dIAdt_smooth[i] = UnivariateSpline(T[1:],dIAdt[i], k=4)   # k is the degree of the smoothing spline  (<=5)\n",
    "    #dIAdt_smooth[i].set_smoothing_factor(55)\n",
    "    plt.plot(T[:],dIAdt_smooth[i](T[:]),'-',color=c, label='colony '+str(i))\n",
    "    plt.plot(T[1:],dIAdt[i],'.',color=c)\n",
    "    plt.xlabel('Time (h)')\n",
    "    plt.ylabel('d(I/A)/dt')\n",
    "    plt.legend(loc='upper left')\n",
    "    #plt.ylim([-5,20])\n",
    "    \n",
    "plt.savefig(\"Plots/d(IA)dT_smooth.pdf\", transparent=True)\n",
    "    "
   ]
  },
  {
   "cell_type": "markdown",
   "metadata": {},
   "source": [
    "Finally, the fluorescent expresion rate constant could be represented by: $$ K_f = \\frac{d(I/A)}{dt} + \\mu \\cdot (I/A) $$"
   ]
  },
  {
   "cell_type": "code",
   "execution_count": null,
   "metadata": {
    "collapsed": false
   },
   "outputs": [],
   "source": [
    "Kf={}\n",
    "for i, c in zip(Cols, colors):\n",
    "    Kf[i]=dIAdt_smooth[i](T[:])+Mu_val[i]*MeanInt3C[i]\n",
    "    plt.plot(T[:],Kf[i],'-',label='colony '+str(i))\n",
    "    plt.xlabel('Time (h)')\n",
    "    plt.ylabel('k(t)')\n",
    "    plt.ylim([-1,18])\n",
    "    plt.legend(loc='upper left')\n",
    "plt.savefig(\"Plots/K_dynamics.pdf\", transparent=True)"
   ]
  },
  {
   "cell_type": "code",
   "execution_count": null,
   "metadata": {
    "collapsed": true
   },
   "outputs": [],
   "source": []
  },
  {
   "cell_type": "code",
   "execution_count": null,
   "metadata": {
    "collapsed": true
   },
   "outputs": [],
   "source": []
  },
  {
   "cell_type": "code",
   "execution_count": null,
   "metadata": {
    "collapsed": true
   },
   "outputs": [],
   "source": []
  }
 ],
 "metadata": {
  "kernelspec": {
   "display_name": "Python 3",
   "language": "python",
   "name": "python3"
  },
  "language_info": {
   "codemirror_mode": {
    "name": "ipython",
    "version": 3
   },
   "file_extension": ".py",
   "mimetype": "text/x-python",
   "name": "python",
   "nbconvert_exporter": "python",
   "pygments_lexer": "ipython3",
   "version": "3.6.0"
  }
 },
 "nbformat": 4,
 "nbformat_minor": 2
}
