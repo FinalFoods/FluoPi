{
 "cells": [
  {
   "cell_type": "markdown",
   "metadata": {},
   "source": [
    "# Analysis of timelapse data from Raspiscope\n",
    "\n",
    "## Preliminaries\n",
    "Before processing the images we need to set up the tools and load the data. We need to import several packages, so before running this notebook you should create an environment (conda or virtualenv) with matplotlib, numpy, and scikit-image, for example:\n",
    "\n",
    "`conda create env -n raspiscope matplotlib numpy scikit-image`\n",
    "\n",
    "and then activate it, e.g.:\n",
    "\n",
    "`source activate raspiscope`\n",
    "\n",
    "or select the conda env here in Jupyter.\n",
    "\n",
    "### Modules\n",
    "First import the standard tools, numpy and matplotlib. These are very well documented packages, more info can be found here:\n",
    "\n",
    "http://www.matplotlib.org\n",
    "\n",
    "http://www.numpy.org"
   ]
  },
  {
   "cell_type": "code",
   "execution_count": null,
   "metadata": {
    "collapsed": false
   },
   "outputs": [],
   "source": [
    "%matplotlib inline\n",
    "import matplotlib\n",
    "import matplotlib.pyplot as plt\n",
    "import numpy as np"
   ]
  },
  {
   "cell_type": "markdown",
   "metadata": {},
   "source": [
    "We will use scikit-image to analyse and process images. There are many examples and tutorials here:\n",
    "\n",
    "http://www.scitkit-image.org"
   ]
  },
  {
   "cell_type": "code",
   "execution_count": null,
   "metadata": {
    "collapsed": false
   },
   "outputs": [],
   "source": [
    "import skimage \n",
    "from skimage import io, filters"
   ]
  },
  {
   "cell_type": "markdown",
   "metadata": {},
   "source": [
    "### Loading images\n",
    "First we specify a text string with the location and name of image files in the timelapse. We put a %d to represent the frame number, %04d means put the number with 4 digits. Using the % operator on the string we can then form any file name in the series:"
   ]
  },
  {
   "cell_type": "code",
   "execution_count": null,
   "metadata": {
    "collapsed": false
   },
   "outputs": [],
   "source": [
    "#fname = \"/Users/timrudge/RaspiScope/Timelapse060117/image_%04d.jpg\"\n",
    "#fname = \"/Users/timrudge/RaspiScope/timelapse/timlap_3_%04d.jpg\"\n",
    "fname =  \"/Users/timrudge/RaspiScope/Lab_19_1_17/image_%04d.jpg\"\n",
    "fname%(0)"
   ]
  },
  {
   "cell_type": "markdown",
   "metadata": {},
   "source": [
    "Lets see what frame 500 looks like. We use PyPlot to read the file into a numpy array. This is a 3-dimensional array (a grid of values) with dimensions x,y,c, with (x,y) position and c the color channel (red, green, blue). \n",
    "\n",
    "<img src=\"files/imagearray.png\" width=256 height=256>\n",
    "\n",
    "We can use PyPlot again to display the array, which interprets the array as a color image correctly."
   ]
  },
  {
   "cell_type": "code",
   "execution_count": null,
   "metadata": {
    "collapsed": false
   },
   "outputs": [],
   "source": [
    "im = plt.imread(fname%500)\n",
    "plt.imshow(im)"
   ]
  },
  {
   "cell_type": "markdown",
   "metadata": {},
   "source": [
    "### Loading the time series\n",
    "There are 3 channels in each image. For now we will just look at the green channel (c=1). We will load the green channel of all the images into a 3-dimensional array, with dimensions x, y, time. \n",
    "\n",
    "<img src=\"files/timeseriesarray.png\" width=256 height=256>\n",
    "\n",
    "First get the size of the image from the numpy array shape, the 3rd dimension size is 3 for R,G,B. We dont need it so use the \"_\" variable."
   ]
  },
  {
   "cell_type": "code",
   "execution_count": null,
   "metadata": {
    "collapsed": false
   },
   "outputs": [],
   "source": [
    "im.shape\n",
    "w,h,_ = im.shape"
   ]
  },
  {
   "cell_type": "markdown",
   "metadata": {},
   "source": [
    "Now we create a numpy array to hold the data and loop over the files, taking only channel 1 (green):"
   ]
  },
  {
   "cell_type": "code",
   "execution_count": null,
   "metadata": {
    "collapsed": false
   },
   "outputs": [],
   "source": [
    "nt = 552\n",
    "ims = np.zeros((w,h,nt))\n",
    "for i in range(nt):\n",
    "    im = plt.imread(fname%i)\n",
    "    ims[:,:,i] = im[:,:,1]"
   ]
  },
  {
   "cell_type": "markdown",
   "metadata": {},
   "source": [
    "Now we have a stack (x,y,t):"
   ]
  },
  {
   "cell_type": "code",
   "execution_count": null,
   "metadata": {
    "collapsed": false
   },
   "outputs": [],
   "source": [
    "ims.shape"
   ]
  },
  {
   "cell_type": "markdown",
   "metadata": {},
   "source": [
    "## Analysis of time-lapse images\n",
    "Now we have all the data loaded into a numpy array. To speed things up, take a subregion of the image to analyse. We do this by '[slicing](https://docs.scipy.org/doc/numpy/reference/arrays.indexing.html)' the array:"
   ]
  },
  {
   "cell_type": "code",
   "execution_count": null,
   "metadata": {
    "collapsed": false
   },
   "outputs": [],
   "source": [
    "imssub = ims[200:600,200:600,:]\n",
    "plt.imshow(imssub[:,:,-1])\n",
    "plt.colorbar()"
   ]
  },
  {
   "cell_type": "markdown",
   "metadata": {},
   "source": [
    "### Mean dynamics over image domain\n",
    "We can get some information by looking just at the variation in total image intensity in the time-series. Do this by taking the sum of the (x,y,t) stack over the first two dimensions (0,1):"
   ]
  },
  {
   "cell_type": "code",
   "execution_count": null,
   "metadata": {
    "collapsed": false
   },
   "outputs": [],
   "source": [
    "sumims = imssub.sum(axis=(0,1))\n",
    "plt.plot(sumims)"
   ]
  },
  {
   "cell_type": "markdown",
   "metadata": {},
   "source": [
    "### Identifying colonies\n",
    "The colonies vary in brightness over the experiment but remain stationary. So we can take the sum of intensity of each pixel over time, and use it to locate colonies reliably:"
   ]
  },
  {
   "cell_type": "code",
   "execution_count": null,
   "metadata": {
    "collapsed": false
   },
   "outputs": [],
   "source": [
    "ims_sum = imssub.sum(axis=2)\n",
    "plt.imshow(ims_sum)\n",
    "plt.colorbar()"
   ]
  },
  {
   "cell_type": "markdown",
   "metadata": {},
   "source": [
    "With any image its essential to remove noise before analysis, here with a [Gaussian filter](http://scikit-image.org/docs/dev/api/skimage.filters.html#skimage.filters.gaussian). Normalisation to (0,1) is also convenient:"
   ]
  },
  {
   "cell_type": "code",
   "execution_count": null,
   "metadata": {
    "collapsed": false
   },
   "outputs": [],
   "source": [
    "from skimage.filters import gaussian\n",
    "simsub = gaussian(ims_sum, 2)\n",
    "nsimsub = (simsub-simsub.min())/(simsub.max()-simsub.min())"
   ]
  },
  {
   "cell_type": "code",
   "execution_count": null,
   "metadata": {
    "collapsed": false
   },
   "outputs": [],
   "source": [
    "plt.imshow(nsimsub)\n",
    "plt.colorbar()"
   ]
  },
  {
   "cell_type": "markdown",
   "metadata": {},
   "source": [
    "#### Blob detection\n",
    "Scikit-image provides several functions to detect Gaussian-like features ([blobs](http://scikit-image.org/docs/dev/auto_examples/plot_blob.html)). We apply one of these ([blob_log](http://scikit-image.org/docs/dev/api/skimage.feature.html#skimage.feature.blob_log)) to the smoothed sum of intensity, and it returns a list of position (x,y) and width (standard deviation):"
   ]
  },
  {
   "cell_type": "code",
   "execution_count": null,
   "metadata": {
    "collapsed": false
   },
   "outputs": [],
   "source": [
    "import skimage.feature as skfeat\n",
    "A = skfeat.blob_log(nsimsub, min_sigma=1.0, max_sigma=10.0, num_sigma=100, threshold=0.25, overlap=0.8)"
   ]
  },
  {
   "cell_type": "code",
   "execution_count": null,
   "metadata": {
    "collapsed": false
   },
   "outputs": [],
   "source": [
    "A.shape\n",
    "A[1:4,:]"
   ]
  },
  {
   "cell_type": "markdown",
   "metadata": {},
   "source": [
    "The array A now contains the location of probable colonies. We can check by showing the image and plotting markers on top at each location contained in A:"
   ]
  },
  {
   "cell_type": "code",
   "execution_count": null,
   "metadata": {
    "collapsed": false,
    "scrolled": false
   },
   "outputs": [],
   "source": [
    "plt.figure(figsize=(8,8))\n",
    "plt.imshow(nsimsub, cmap='gray')\n",
    "plt.hold(True)\n",
    "for i in range(len(A)):\n",
    "    plt.plot(A[i,1],A[i,0],'r+')"
   ]
  },
  {
   "cell_type": "markdown",
   "metadata": {},
   "source": [
    "### Time dynamics of colonies\n",
    "Now we have estimated colony location (and size) we can analyse the dynamics of fluorescence and growth. First to distinguish cell fluorescence from media and background light, we select an empty region of the plate (by eye) and take the mean value in each frame as the background:"
   ]
  },
  {
   "cell_type": "code",
   "execution_count": null,
   "metadata": {
    "collapsed": false
   },
   "outputs": [],
   "source": [
    "bg = imssub[300:400,0:100,:].mean(axis=(0,1))\n",
    "plt.plot(bg)"
   ]
  },
  {
   "cell_type": "markdown",
   "metadata": {},
   "source": [
    "To restrict image analysis for each colony, we can extract a region at each location, with size given by the Gaussian width (x2 = 2 standard deviations). Here we put the image series into a dict indexed by colony. We also subtract the background estimate from each time series."
   ]
  },
  {
   "cell_type": "code",
   "execution_count": null,
   "metadata": {
    "collapsed": false
   },
   "outputs": [],
   "source": [
    "rois = {}\n",
    "for i in range(len(A)):\n",
    "    x = A[i,0]\n",
    "    y = A[i,1]\n",
    "    r = 2*A[i,2]\n",
    "    rois[i] = imssub[x-r:x+r,y-r:y+r,:]-bg"
   ]
  },
  {
   "cell_type": "markdown",
   "metadata": {},
   "source": [
    "Now we can plot the total fluoresence in the region of each colony:"
   ]
  },
  {
   "cell_type": "code",
   "execution_count": null,
   "metadata": {
    "collapsed": false
   },
   "outputs": [],
   "source": [
    "for i in range(len(A)):\n",
    "    plt.plot(rois[i].sum(axis=(0,1)))\n",
    "    plt.hold(True)"
   ]
  },
  {
   "cell_type": "markdown",
   "metadata": {},
   "source": [
    "#### Colony radius growth\n",
    "We have the location and some kind of size estimate based on the total fluorescence of each colony over the time-lapse. We would like to know the size of the colony in each frame; from this we can compute the growth rate.\n",
    "\n",
    "One way to do this is the find Gaussian blobs in each of the image regions of the colony, for each frame of the time-lapse. Then assume that the first (only?) blob detected is the colony we are interested in. \n",
    "\n",
    "This is very slow, there is a simpler way since we can assume a single Gaussian in each image region. Anyway for now it works ok.\n",
    "\n",
    "The following loop finds blobs and stores the width in each frame. The result is a dict containing the size at each time point for every colony."
   ]
  },
  {
   "cell_type": "code",
   "execution_count": null,
   "metadata": {
    "collapsed": false
   },
   "outputs": [],
   "source": [
    "R = {}\n",
    "for k in range(len(A)):\n",
    "    R[k] = np.zeros((nt,))\n",
    "    for i in range(nt):\n",
    "        troi = rois[k][:,:,i].astype(np.float32)\n",
    "        ntroi = (troi-troi.min())/(troi.max()-troi.min())\n",
    "        AA = skfeat.blob_log(ntroi, min_sigma=1.0, max_sigma=10.0, num_sigma=200, threshold=0.25, overlap=0.8)\n",
    "        if len(AA)>0:\n",
    "            R[k][i] = AA[0,2]"
   ]
  },
  {
   "cell_type": "markdown",
   "metadata": {},
   "source": [
    "Since the colony is roughly circular and flat, an estimate of volume is $R^2$. Lets plot this for some colonies. Plotting the log is useful because the slope is the relative growth rate. We can see the colonies slow their growth during the experiment."
   ]
  },
  {
   "cell_type": "code",
   "execution_count": null,
   "metadata": {
    "collapsed": false
   },
   "outputs": [],
   "source": [
    "idx = [0,1,2,3,4,9]\n",
    "for i in idx:\n",
    "    r = R[i][0:-1:10]\n",
    "    plt.plot(np.log(r*r))\n",
    "    plt.hold(True)"
   ]
  },
  {
   "cell_type": "markdown",
   "metadata": {},
   "source": [
    "#### Check the radius estimate\n",
    "To see how well the colony size is estimated, we can compare to the profile of a colony in a slice of its image region. The radius (red line) should give the border of the colony."
   ]
  },
  {
   "cell_type": "code",
   "execution_count": null,
   "metadata": {
    "collapsed": false
   },
   "outputs": [],
   "source": [
    "idx = 6\n",
    "plt.figure(figsize=(16,12))\n",
    "w,h,d = rois[idx].shape\n",
    "plt.imshow(rois[idx][w/2+1,:,0:-1:10], interpolation='none', cmap='gray')\n",
    "plt.colorbar()\n",
    "plt.hold(True)\n",
    "plt.plot(-R[idx][0:-1:10]*2+h/2+1,'r')\n",
    "plt.plot(R[idx][0:-1:10]*2+h/2+1,'r')"
   ]
  },
  {
   "cell_type": "markdown",
   "metadata": {},
   "source": [
    "### Dynamics plotting\n",
    "A simple way to view dynamics is a movie, plotting each frame successively. To do this we have to turn off inline plotting so that a new window will open."
   ]
  },
  {
   "cell_type": "code",
   "execution_count": null,
   "metadata": {
    "collapsed": false
   },
   "outputs": [],
   "source": [
    "%matplotlib auto\n",
    "mx = np.max(rois[9])\n",
    "for i in range(300,400):\n",
    "    plt.imshow(rois[9][:,:,i], interpolation='none', vmin=0, vmax=mx)\n",
    "    plt.title('%f'%R[9][i])\n",
    "    plt.pause(0.1)\n",
    "%matplotlib inline"
   ]
  },
  {
   "cell_type": "markdown",
   "metadata": {},
   "source": [
    "### Parameter estimation from data\n",
    "We should be able to follow the same process as in the ratiometric paper using platereader data. Here testing..."
   ]
  },
  {
   "cell_type": "code",
   "execution_count": null,
   "metadata": {
    "collapsed": false
   },
   "outputs": [],
   "source": [
    "for i in range(len(A)):\n",
    "    plt.plot(R[i]*R[i], rois[i].sum(axis=(0,1)), '.')\n",
    "    plt.hold(True)"
   ]
  },
  {
   "cell_type": "code",
   "execution_count": null,
   "metadata": {
    "collapsed": false
   },
   "outputs": [],
   "source": [
    "for i in range(len(A)):\n",
    "    roi = rois[i]\n",
    "    plt.plot(np.log(roi.mean(axis=(0,1))))\n",
    "    plt.hold(True)\n",
    "plt.legend()"
   ]
  },
  {
   "cell_type": "code",
   "execution_count": null,
   "metadata": {
    "collapsed": false
   },
   "outputs": [],
   "source": [
    "plt.plot(ims[500,200,:])"
   ]
  },
  {
   "cell_type": "code",
   "execution_count": null,
   "metadata": {
    "collapsed": false
   },
   "outputs": [],
   "source": [
    "plt.figure(figsize=(16,12))\n",
    "plt.imshow(ims[A[10,0],400:450,:])"
   ]
  },
  {
   "cell_type": "code",
   "execution_count": null,
   "metadata": {
    "collapsed": false
   },
   "outputs": [],
   "source": [
    "s = np.diff(ims[A[10,0],:,:], axis=1)\n",
    "s.shape"
   ]
  },
  {
   "cell_type": "code",
   "execution_count": null,
   "metadata": {
    "collapsed": false
   },
   "outputs": [],
   "source": [
    "c=np.cov(s)\n",
    "x = A[10,0]\n",
    "y = A[10,1]\n",
    "plt.plot(c[y,y-20:y+20])\n",
    "c[y,y]"
   ]
  },
  {
   "cell_type": "code",
   "execution_count": null,
   "metadata": {
    "collapsed": true
   },
   "outputs": [],
   "source": []
  }
 ],
 "metadata": {
  "anaconda-cloud": {},
  "kernelspec": {
   "display_name": "Python [default]",
   "language": "python",
   "name": "python2"
  },
  "language_info": {
   "codemirror_mode": {
    "name": "ipython",
    "version": 2
   },
   "file_extension": ".py",
   "mimetype": "text/x-python",
   "name": "python",
   "nbconvert_exporter": "python",
   "pygments_lexer": "ipython2",
   "version": "2.7.13"
  }
 },
 "nbformat": 4,
 "nbformat_minor": 0
}
